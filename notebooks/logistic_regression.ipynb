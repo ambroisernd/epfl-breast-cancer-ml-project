{
 "cells": [
  {
   "cell_type": "code",
   "execution_count": 1,
   "metadata": {},
   "outputs": [],
   "source": [
    "import sys\n",
    "sys.path.append(\"../src\")"
   ]
  },
  {
   "cell_type": "code",
   "execution_count": 2,
   "metadata": {},
   "outputs": [],
   "source": [
    "import pandas as pd\n",
    "from sklearn.linear_model import LogisticRegression\n",
    "from sklearn import metrics\n",
    "import matplotlib.pyplot as plt\n",
    "import seaborn as sns\n",
    "import numpy as np\n",
    "%matplotlib notebook"
   ]
  },
  {
   "cell_type": "markdown",
   "metadata": {},
   "source": [
    "# Load dataset and do some preprocessing"
   ]
  },
  {
   "cell_type": "code",
   "execution_count": 3,
   "metadata": {},
   "outputs": [],
   "source": [
    "train_path = \"../data/train.csv\""
   ]
  },
  {
   "cell_type": "code",
   "execution_count": 4,
   "metadata": {},
   "outputs": [],
   "source": [
    "df_data = pd.read_csv(train_path, sep=\",\")"
   ]
  },
  {
   "cell_type": "code",
   "execution_count": 5,
   "metadata": {},
   "outputs": [
    {
     "data": {
      "text/html": [
       "<div>\n",
       "<style scoped>\n",
       "    .dataframe tbody tr th:only-of-type {\n",
       "        vertical-align: middle;\n",
       "    }\n",
       "\n",
       "    .dataframe tbody tr th {\n",
       "        vertical-align: top;\n",
       "    }\n",
       "\n",
       "    .dataframe thead th {\n",
       "        text-align: right;\n",
       "    }\n",
       "</style>\n",
       "<table border=\"1\" class=\"dataframe\">\n",
       "  <thead>\n",
       "    <tr style=\"text-align: right;\">\n",
       "      <th></th>\n",
       "      <th>full_label</th>\n",
       "      <th>TSPAN6</th>\n",
       "      <th>TNMD</th>\n",
       "      <th>DPM1</th>\n",
       "      <th>SCYL3</th>\n",
       "      <th>C1orf112</th>\n",
       "      <th>CFH</th>\n",
       "      <th>FUCA2</th>\n",
       "      <th>GCLC</th>\n",
       "      <th>NFYA</th>\n",
       "      <th>...</th>\n",
       "      <th>AC069544.2</th>\n",
       "      <th>AC006460.2</th>\n",
       "      <th>AL356275.1</th>\n",
       "      <th>AC092329.4</th>\n",
       "      <th>MIR205</th>\n",
       "      <th>AC066615.1</th>\n",
       "      <th>AC105233.5</th>\n",
       "      <th>AC073111.5</th>\n",
       "      <th>AC079781.5</th>\n",
       "      <th>label</th>\n",
       "    </tr>\n",
       "  </thead>\n",
       "  <tbody>\n",
       "    <tr>\n",
       "      <td>0</td>\n",
       "      <td>369_M01_CTRL</td>\n",
       "      <td>8.869526</td>\n",
       "      <td>5.648693</td>\n",
       "      <td>7.664066</td>\n",
       "      <td>8.370360</td>\n",
       "      <td>6.257695</td>\n",
       "      <td>5.270360</td>\n",
       "      <td>7.475895</td>\n",
       "      <td>8.269031</td>\n",
       "      <td>8.279492</td>\n",
       "      <td>...</td>\n",
       "      <td>5.319481</td>\n",
       "      <td>5.045370</td>\n",
       "      <td>5.648693</td>\n",
       "      <td>6.235458</td>\n",
       "      <td>4.523640</td>\n",
       "      <td>3.984119</td>\n",
       "      <td>4.523640</td>\n",
       "      <td>5.218771</td>\n",
       "      <td>5.319481</td>\n",
       "      <td>0</td>\n",
       "    </tr>\n",
       "    <tr>\n",
       "      <td>1</td>\n",
       "      <td>369_M05_CTRL</td>\n",
       "      <td>8.705657</td>\n",
       "      <td>5.932060</td>\n",
       "      <td>7.820206</td>\n",
       "      <td>8.362421</td>\n",
       "      <td>6.140431</td>\n",
       "      <td>5.573240</td>\n",
       "      <td>7.791254</td>\n",
       "      <td>8.201606</td>\n",
       "      <td>8.122618</td>\n",
       "      <td>...</td>\n",
       "      <td>4.741939</td>\n",
       "      <td>4.523022</td>\n",
       "      <td>5.534549</td>\n",
       "      <td>6.014217</td>\n",
       "      <td>4.523022</td>\n",
       "      <td>3.984119</td>\n",
       "      <td>5.105518</td>\n",
       "      <td>5.268960</td>\n",
       "      <td>5.409834</td>\n",
       "      <td>0</td>\n",
       "    </tr>\n",
       "    <tr>\n",
       "      <td>2</td>\n",
       "      <td>371_M02_CTRL</td>\n",
       "      <td>8.623002</td>\n",
       "      <td>3.984119</td>\n",
       "      <td>7.419094</td>\n",
       "      <td>8.498542</td>\n",
       "      <td>6.160291</td>\n",
       "      <td>5.588960</td>\n",
       "      <td>8.013386</td>\n",
       "      <td>7.919199</td>\n",
       "      <td>8.520048</td>\n",
       "      <td>...</td>\n",
       "      <td>5.588960</td>\n",
       "      <td>5.146627</td>\n",
       "      <td>4.816944</td>\n",
       "      <td>6.716586</td>\n",
       "      <td>4.816944</td>\n",
       "      <td>3.984119</td>\n",
       "      <td>4.816944</td>\n",
       "      <td>5.146627</td>\n",
       "      <td>5.390389</td>\n",
       "      <td>0</td>\n",
       "    </tr>\n",
       "    <tr>\n",
       "      <td>3</td>\n",
       "      <td>371_M07_CTRL</td>\n",
       "      <td>9.434875</td>\n",
       "      <td>5.866242</td>\n",
       "      <td>8.337313</td>\n",
       "      <td>8.139628</td>\n",
       "      <td>7.505509</td>\n",
       "      <td>3.984119</td>\n",
       "      <td>7.329864</td>\n",
       "      <td>8.352620</td>\n",
       "      <td>8.048476</td>\n",
       "      <td>...</td>\n",
       "      <td>3.984119</td>\n",
       "      <td>3.984119</td>\n",
       "      <td>4.650987</td>\n",
       "      <td>5.553634</td>\n",
       "      <td>4.650987</td>\n",
       "      <td>3.984119</td>\n",
       "      <td>4.919178</td>\n",
       "      <td>3.984119</td>\n",
       "      <td>4.650987</td>\n",
       "      <td>0</td>\n",
       "    </tr>\n",
       "    <tr>\n",
       "      <td>4</td>\n",
       "      <td>371_M11_CTRL</td>\n",
       "      <td>9.055039</td>\n",
       "      <td>5.240241</td>\n",
       "      <td>7.811833</td>\n",
       "      <td>8.236604</td>\n",
       "      <td>6.829787</td>\n",
       "      <td>4.793247</td>\n",
       "      <td>7.691507</td>\n",
       "      <td>8.441777</td>\n",
       "      <td>8.376590</td>\n",
       "      <td>...</td>\n",
       "      <td>4.968903</td>\n",
       "      <td>4.559957</td>\n",
       "      <td>5.453445</td>\n",
       "      <td>6.161526</td>\n",
       "      <td>4.559957</td>\n",
       "      <td>3.984119</td>\n",
       "      <td>4.559957</td>\n",
       "      <td>5.240241</td>\n",
       "      <td>5.787031</td>\n",
       "      <td>0</td>\n",
       "    </tr>\n",
       "  </tbody>\n",
       "</table>\n",
       "<p>5 rows × 15106 columns</p>\n",
       "</div>"
      ],
      "text/plain": [
       "     full_label    TSPAN6      TNMD      DPM1     SCYL3  C1orf112       CFH  \\\n",
       "0  369_M01_CTRL  8.869526  5.648693  7.664066  8.370360  6.257695  5.270360   \n",
       "1  369_M05_CTRL  8.705657  5.932060  7.820206  8.362421  6.140431  5.573240   \n",
       "2  371_M02_CTRL  8.623002  3.984119  7.419094  8.498542  6.160291  5.588960   \n",
       "3  371_M07_CTRL  9.434875  5.866242  8.337313  8.139628  7.505509  3.984119   \n",
       "4  371_M11_CTRL  9.055039  5.240241  7.811833  8.236604  6.829787  4.793247   \n",
       "\n",
       "      FUCA2      GCLC      NFYA  ...  AC069544.2  AC006460.2  AL356275.1  \\\n",
       "0  7.475895  8.269031  8.279492  ...    5.319481    5.045370    5.648693   \n",
       "1  7.791254  8.201606  8.122618  ...    4.741939    4.523022    5.534549   \n",
       "2  8.013386  7.919199  8.520048  ...    5.588960    5.146627    4.816944   \n",
       "3  7.329864  8.352620  8.048476  ...    3.984119    3.984119    4.650987   \n",
       "4  7.691507  8.441777  8.376590  ...    4.968903    4.559957    5.453445   \n",
       "\n",
       "   AC092329.4    MIR205  AC066615.1  AC105233.5  AC073111.5  AC079781.5  label  \n",
       "0    6.235458  4.523640    3.984119    4.523640    5.218771    5.319481      0  \n",
       "1    6.014217  4.523022    3.984119    5.105518    5.268960    5.409834      0  \n",
       "2    6.716586  4.816944    3.984119    4.816944    5.146627    5.390389      0  \n",
       "3    5.553634  4.650987    3.984119    4.919178    3.984119    4.650987      0  \n",
       "4    6.161526  4.559957    3.984119    4.559957    5.240241    5.787031      0  \n",
       "\n",
       "[5 rows x 15106 columns]"
      ]
     },
     "execution_count": 5,
     "metadata": {},
     "output_type": "execute_result"
    }
   ],
   "source": [
    "df_data.head()"
   ]
  },
  {
   "cell_type": "code",
   "execution_count": 6,
   "metadata": {},
   "outputs": [
    {
     "data": {
      "text/html": [
       "<div>\n",
       "<style scoped>\n",
       "    .dataframe tbody tr th:only-of-type {\n",
       "        vertical-align: middle;\n",
       "    }\n",
       "\n",
       "    .dataframe tbody tr th {\n",
       "        vertical-align: top;\n",
       "    }\n",
       "\n",
       "    .dataframe thead th {\n",
       "        text-align: right;\n",
       "    }\n",
       "</style>\n",
       "<table border=\"1\" class=\"dataframe\">\n",
       "  <thead>\n",
       "    <tr style=\"text-align: right;\">\n",
       "      <th></th>\n",
       "      <th>0</th>\n",
       "      <th>1</th>\n",
       "      <th>2</th>\n",
       "      <th>3</th>\n",
       "      <th>4</th>\n",
       "      <th>5</th>\n",
       "      <th>6</th>\n",
       "      <th>7</th>\n",
       "      <th>8</th>\n",
       "      <th>9</th>\n",
       "      <th>...</th>\n",
       "      <th>19</th>\n",
       "      <th>20</th>\n",
       "      <th>21</th>\n",
       "      <th>22</th>\n",
       "      <th>23</th>\n",
       "      <th>24</th>\n",
       "      <th>25</th>\n",
       "      <th>26</th>\n",
       "      <th>27</th>\n",
       "      <th>28</th>\n",
       "    </tr>\n",
       "  </thead>\n",
       "  <tbody>\n",
       "    <tr>\n",
       "      <td>count</td>\n",
       "      <td>15106.000000</td>\n",
       "      <td>15106.000000</td>\n",
       "      <td>15106.000000</td>\n",
       "      <td>15106.000000</td>\n",
       "      <td>15106.000000</td>\n",
       "      <td>15106.000000</td>\n",
       "      <td>15106.000000</td>\n",
       "      <td>15106.000000</td>\n",
       "      <td>15106.000000</td>\n",
       "      <td>15106.000000</td>\n",
       "      <td>...</td>\n",
       "      <td>15106.000000</td>\n",
       "      <td>15106.000000</td>\n",
       "      <td>15106.000000</td>\n",
       "      <td>15106.000000</td>\n",
       "      <td>15106.000000</td>\n",
       "      <td>15106.000000</td>\n",
       "      <td>15106.000000</td>\n",
       "      <td>15106.000000</td>\n",
       "      <td>15106.000000</td>\n",
       "      <td>15106.000000</td>\n",
       "    </tr>\n",
       "    <tr>\n",
       "      <td>unique</td>\n",
       "      <td>1413.000000</td>\n",
       "      <td>1436.000000</td>\n",
       "      <td>496.000000</td>\n",
       "      <td>748.000000</td>\n",
       "      <td>847.000000</td>\n",
       "      <td>1983.000000</td>\n",
       "      <td>1577.000000</td>\n",
       "      <td>2321.000000</td>\n",
       "      <td>2821.000000</td>\n",
       "      <td>2768.000000</td>\n",
       "      <td>...</td>\n",
       "      <td>1210.000000</td>\n",
       "      <td>1352.000000</td>\n",
       "      <td>1987.000000</td>\n",
       "      <td>487.000000</td>\n",
       "      <td>863.000000</td>\n",
       "      <td>685.000000</td>\n",
       "      <td>1983.000000</td>\n",
       "      <td>2928.000000</td>\n",
       "      <td>2533.000000</td>\n",
       "      <td>2567.000000</td>\n",
       "    </tr>\n",
       "    <tr>\n",
       "      <td>top</td>\n",
       "      <td>3.984119</td>\n",
       "      <td>3.984119</td>\n",
       "      <td>3.984119</td>\n",
       "      <td>3.984119</td>\n",
       "      <td>3.984119</td>\n",
       "      <td>3.984119</td>\n",
       "      <td>3.984119</td>\n",
       "      <td>3.984119</td>\n",
       "      <td>3.984119</td>\n",
       "      <td>3.984119</td>\n",
       "      <td>...</td>\n",
       "      <td>3.984119</td>\n",
       "      <td>3.984119</td>\n",
       "      <td>3.984119</td>\n",
       "      <td>3.984119</td>\n",
       "      <td>3.984119</td>\n",
       "      <td>3.984119</td>\n",
       "      <td>3.984119</td>\n",
       "      <td>3.984119</td>\n",
       "      <td>3.984119</td>\n",
       "      <td>3.984119</td>\n",
       "    </tr>\n",
       "    <tr>\n",
       "      <td>freq</td>\n",
       "      <td>663.000000</td>\n",
       "      <td>632.000000</td>\n",
       "      <td>1534.000000</td>\n",
       "      <td>2424.000000</td>\n",
       "      <td>1074.000000</td>\n",
       "      <td>148.000000</td>\n",
       "      <td>877.000000</td>\n",
       "      <td>167.000000</td>\n",
       "      <td>141.000000</td>\n",
       "      <td>419.000000</td>\n",
       "      <td>...</td>\n",
       "      <td>716.000000</td>\n",
       "      <td>609.000000</td>\n",
       "      <td>632.000000</td>\n",
       "      <td>1433.000000</td>\n",
       "      <td>945.000000</td>\n",
       "      <td>1392.000000</td>\n",
       "      <td>145.000000</td>\n",
       "      <td>131.000000</td>\n",
       "      <td>173.000000</td>\n",
       "      <td>142.000000</td>\n",
       "    </tr>\n",
       "  </tbody>\n",
       "</table>\n",
       "<p>4 rows × 29 columns</p>\n",
       "</div>"
      ],
      "text/plain": [
       "                  0             1             2             3             4   \\\n",
       "count   15106.000000  15106.000000  15106.000000  15106.000000  15106.000000   \n",
       "unique   1413.000000   1436.000000    496.000000    748.000000    847.000000   \n",
       "top         3.984119      3.984119      3.984119      3.984119      3.984119   \n",
       "freq      663.000000    632.000000   1534.000000   2424.000000   1074.000000   \n",
       "\n",
       "                  5             6             7             8             9   \\\n",
       "count   15106.000000  15106.000000  15106.000000  15106.000000  15106.000000   \n",
       "unique   1983.000000   1577.000000   2321.000000   2821.000000   2768.000000   \n",
       "top         3.984119      3.984119      3.984119      3.984119      3.984119   \n",
       "freq      148.000000    877.000000    167.000000    141.000000    419.000000   \n",
       "\n",
       "        ...            19            20            21            22  \\\n",
       "count   ...  15106.000000  15106.000000  15106.000000  15106.000000   \n",
       "unique  ...   1210.000000   1352.000000   1987.000000    487.000000   \n",
       "top     ...      3.984119      3.984119      3.984119      3.984119   \n",
       "freq    ...    716.000000    609.000000    632.000000   1433.000000   \n",
       "\n",
       "                  23            24            25            26            27  \\\n",
       "count   15106.000000  15106.000000  15106.000000  15106.000000  15106.000000   \n",
       "unique    863.000000    685.000000   1983.000000   2928.000000   2533.000000   \n",
       "top         3.984119      3.984119      3.984119      3.984119      3.984119   \n",
       "freq      945.000000   1392.000000    145.000000    131.000000    173.000000   \n",
       "\n",
       "                  28  \n",
       "count   15106.000000  \n",
       "unique   2567.000000  \n",
       "top         3.984119  \n",
       "freq      142.000000  \n",
       "\n",
       "[4 rows x 29 columns]"
      ]
     },
     "execution_count": 6,
     "metadata": {},
     "output_type": "execute_result"
    }
   ],
   "source": [
    "df_data.T.describe()"
   ]
  },
  {
   "cell_type": "code",
   "execution_count": 7,
   "metadata": {},
   "outputs": [],
   "source": [
    "df_features = df_data[df_data.columns.difference(['full_label', 'label'])]\n",
    "df_labels = df_data[\"label\"]"
   ]
  },
  {
   "cell_type": "code",
   "execution_count": 8,
   "metadata": {},
   "outputs": [
    {
     "data": {
      "text/html": [
       "<div>\n",
       "<style scoped>\n",
       "    .dataframe tbody tr th:only-of-type {\n",
       "        vertical-align: middle;\n",
       "    }\n",
       "\n",
       "    .dataframe tbody tr th {\n",
       "        vertical-align: top;\n",
       "    }\n",
       "\n",
       "    .dataframe thead th {\n",
       "        text-align: right;\n",
       "    }\n",
       "</style>\n",
       "<table border=\"1\" class=\"dataframe\">\n",
       "  <thead>\n",
       "    <tr style=\"text-align: right;\">\n",
       "      <th></th>\n",
       "      <th>A1BG-AS1</th>\n",
       "      <th>A2M</th>\n",
       "      <th>A2ML1</th>\n",
       "      <th>A4GALT</th>\n",
       "      <th>AAAS</th>\n",
       "      <th>AACS</th>\n",
       "      <th>AADAT</th>\n",
       "      <th>AAED1</th>\n",
       "      <th>AAGAB</th>\n",
       "      <th>AAK1</th>\n",
       "      <th>...</th>\n",
       "      <th>ZYG11B</th>\n",
       "      <th>ZYX</th>\n",
       "      <th>ZZEF1</th>\n",
       "      <th>ZZZ3</th>\n",
       "      <th>août-01</th>\n",
       "      <th>août-02</th>\n",
       "      <th>août-03</th>\n",
       "      <th>août-04</th>\n",
       "      <th>janv.-01</th>\n",
       "      <th>snoU2_19</th>\n",
       "    </tr>\n",
       "  </thead>\n",
       "  <tbody>\n",
       "    <tr>\n",
       "      <td>0</td>\n",
       "      <td>4.908175</td>\n",
       "      <td>12.037180</td>\n",
       "      <td>5.045370</td>\n",
       "      <td>5.045370</td>\n",
       "      <td>7.381365</td>\n",
       "      <td>8.263771</td>\n",
       "      <td>5.164377</td>\n",
       "      <td>6.423369</td>\n",
       "      <td>8.350658</td>\n",
       "      <td>8.210091</td>\n",
       "      <td>...</td>\n",
       "      <td>8.616981</td>\n",
       "      <td>6.765996</td>\n",
       "      <td>8.704889</td>\n",
       "      <td>8.976108</td>\n",
       "      <td>8.608716</td>\n",
       "      <td>9.066324</td>\n",
       "      <td>8.570926</td>\n",
       "      <td>8.886709</td>\n",
       "      <td>7.581604</td>\n",
       "      <td>4.366722</td>\n",
       "    </tr>\n",
       "    <tr>\n",
       "      <td>1</td>\n",
       "      <td>4.523022</td>\n",
       "      <td>12.272072</td>\n",
       "      <td>5.105518</td>\n",
       "      <td>5.217421</td>\n",
       "      <td>7.398009</td>\n",
       "      <td>8.515874</td>\n",
       "      <td>5.749570</td>\n",
       "      <td>6.255497</td>\n",
       "      <td>8.001646</td>\n",
       "      <td>7.956770</td>\n",
       "      <td>...</td>\n",
       "      <td>8.630280</td>\n",
       "      <td>6.669450</td>\n",
       "      <td>8.827865</td>\n",
       "      <td>9.128019</td>\n",
       "      <td>8.795552</td>\n",
       "      <td>9.201074</td>\n",
       "      <td>8.580553</td>\n",
       "      <td>8.855992</td>\n",
       "      <td>7.463924</td>\n",
       "      <td>3.984119</td>\n",
       "    </tr>\n",
       "    <tr>\n",
       "      <td>2</td>\n",
       "      <td>5.758390</td>\n",
       "      <td>6.039895</td>\n",
       "      <td>5.146627</td>\n",
       "      <td>3.984119</td>\n",
       "      <td>7.982674</td>\n",
       "      <td>8.432022</td>\n",
       "      <td>6.991751</td>\n",
       "      <td>5.758390</td>\n",
       "      <td>8.719075</td>\n",
       "      <td>8.237920</td>\n",
       "      <td>...</td>\n",
       "      <td>7.982674</td>\n",
       "      <td>6.466886</td>\n",
       "      <td>8.826486</td>\n",
       "      <td>9.121773</td>\n",
       "      <td>8.541237</td>\n",
       "      <td>9.107652</td>\n",
       "      <td>8.476709</td>\n",
       "      <td>8.602993</td>\n",
       "      <td>8.157784</td>\n",
       "      <td>3.984119</td>\n",
       "    </tr>\n",
       "    <tr>\n",
       "      <td>3</td>\n",
       "      <td>3.984119</td>\n",
       "      <td>11.059675</td>\n",
       "      <td>3.984119</td>\n",
       "      <td>3.984119</td>\n",
       "      <td>6.807586</td>\n",
       "      <td>7.532781</td>\n",
       "      <td>7.390862</td>\n",
       "      <td>6.258603</td>\n",
       "      <td>8.993143</td>\n",
       "      <td>8.290386</td>\n",
       "      <td>...</td>\n",
       "      <td>8.827956</td>\n",
       "      <td>3.984119</td>\n",
       "      <td>8.678210</td>\n",
       "      <td>9.346056</td>\n",
       "      <td>8.367766</td>\n",
       "      <td>9.031639</td>\n",
       "      <td>9.114668</td>\n",
       "      <td>8.849671</td>\n",
       "      <td>8.139628</td>\n",
       "      <td>3.984119</td>\n",
       "    </tr>\n",
       "    <tr>\n",
       "      <td>4</td>\n",
       "      <td>4.968903</td>\n",
       "      <td>10.311189</td>\n",
       "      <td>4.559957</td>\n",
       "      <td>3.984119</td>\n",
       "      <td>7.458173</td>\n",
       "      <td>8.095056</td>\n",
       "      <td>6.796347</td>\n",
       "      <td>6.161526</td>\n",
       "      <td>8.319912</td>\n",
       "      <td>8.224298</td>\n",
       "      <td>...</td>\n",
       "      <td>8.720871</td>\n",
       "      <td>5.453445</td>\n",
       "      <td>8.473294</td>\n",
       "      <td>9.621207</td>\n",
       "      <td>8.493928</td>\n",
       "      <td>9.181128</td>\n",
       "      <td>8.901494</td>\n",
       "      <td>8.983960</td>\n",
       "      <td>8.308303</td>\n",
       "      <td>3.984119</td>\n",
       "    </tr>\n",
       "  </tbody>\n",
       "</table>\n",
       "<p>5 rows × 15104 columns</p>\n",
       "</div>"
      ],
      "text/plain": [
       "   A1BG-AS1        A2M     A2ML1    A4GALT      AAAS      AACS     AADAT  \\\n",
       "0  4.908175  12.037180  5.045370  5.045370  7.381365  8.263771  5.164377   \n",
       "1  4.523022  12.272072  5.105518  5.217421  7.398009  8.515874  5.749570   \n",
       "2  5.758390   6.039895  5.146627  3.984119  7.982674  8.432022  6.991751   \n",
       "3  3.984119  11.059675  3.984119  3.984119  6.807586  7.532781  7.390862   \n",
       "4  4.968903  10.311189  4.559957  3.984119  7.458173  8.095056  6.796347   \n",
       "\n",
       "      AAED1     AAGAB      AAK1  ...    ZYG11B       ZYX     ZZEF1      ZZZ3  \\\n",
       "0  6.423369  8.350658  8.210091  ...  8.616981  6.765996  8.704889  8.976108   \n",
       "1  6.255497  8.001646  7.956770  ...  8.630280  6.669450  8.827865  9.128019   \n",
       "2  5.758390  8.719075  8.237920  ...  7.982674  6.466886  8.826486  9.121773   \n",
       "3  6.258603  8.993143  8.290386  ...  8.827956  3.984119  8.678210  9.346056   \n",
       "4  6.161526  8.319912  8.224298  ...  8.720871  5.453445  8.473294  9.621207   \n",
       "\n",
       "    août-01   août-02   août-03   août-04  janv.-01  snoU2_19  \n",
       "0  8.608716  9.066324  8.570926  8.886709  7.581604  4.366722  \n",
       "1  8.795552  9.201074  8.580553  8.855992  7.463924  3.984119  \n",
       "2  8.541237  9.107652  8.476709  8.602993  8.157784  3.984119  \n",
       "3  8.367766  9.031639  9.114668  8.849671  8.139628  3.984119  \n",
       "4  8.493928  9.181128  8.901494  8.983960  8.308303  3.984119  \n",
       "\n",
       "[5 rows x 15104 columns]"
      ]
     },
     "execution_count": 8,
     "metadata": {},
     "output_type": "execute_result"
    }
   ],
   "source": [
    "df_features.head()"
   ]
  },
  {
   "cell_type": "code",
   "execution_count": 9,
   "metadata": {},
   "outputs": [
    {
     "data": {
      "text/plain": [
       "0    0\n",
       "1    0\n",
       "2    0\n",
       "3    0\n",
       "4    0\n",
       "Name: label, dtype: int64"
      ]
     },
     "execution_count": 9,
     "metadata": {},
     "output_type": "execute_result"
    }
   ],
   "source": [
    "df_labels.head()"
   ]
  },
  {
   "cell_type": "markdown",
   "metadata": {},
   "source": [
    "## Set X (y) matrix(vector)"
   ]
  },
  {
   "cell_type": "code",
   "execution_count": 10,
   "metadata": {},
   "outputs": [
    {
     "name": "stdout",
     "output_type": "stream",
     "text": [
      "(29, 15104)\n"
     ]
    }
   ],
   "source": [
    "X = df_features.values\n",
    "print(X.shape)"
   ]
  },
  {
   "cell_type": "code",
   "execution_count": 11,
   "metadata": {},
   "outputs": [
    {
     "name": "stdout",
     "output_type": "stream",
     "text": [
      "(29,)\n"
     ]
    }
   ],
   "source": [
    "y = df_labels.values\n",
    "print(y.shape)"
   ]
  },
  {
   "cell_type": "markdown",
   "metadata": {},
   "source": [
    "# Logistic regression"
   ]
  },
  {
   "cell_type": "code",
   "execution_count": 12,
   "metadata": {},
   "outputs": [],
   "source": [
    "from sklearn.model_selection import train_test_split\n",
    "x_train, x_test, y_train, y_test = train_test_split(X, y, test_size=0.25, random_state=0)"
   ]
  },
  {
   "cell_type": "code",
   "execution_count": 13,
   "metadata": {},
   "outputs": [
    {
     "name": "stdout",
     "output_type": "stream",
     "text": [
      "(21, 15104)\n",
      "(21,)\n",
      "(8, 15104)\n",
      "(8,)\n"
     ]
    }
   ],
   "source": [
    "print(x_train.shape)\n",
    "print(y_train.shape)\n",
    "print(x_test.shape)\n",
    "print(y_test.shape)"
   ]
  },
  {
   "cell_type": "markdown",
   "metadata": {},
   "source": [
    "## Define the models"
   ]
  },
  {
   "cell_type": "code",
   "execution_count": 14,
   "metadata": {},
   "outputs": [],
   "source": [
    "clf_l1_LR = LogisticRegression(penalty='l1', solver='saga', max_iter=1000, multi_class='multinomial')\n",
    "clf_l2_LR = LogisticRegression(penalty='l2', solver='saga', max_iter=1000, multi_class='multinomial')"
   ]
  },
  {
   "cell_type": "markdown",
   "metadata": {},
   "source": [
    "## Train models"
   ]
  },
  {
   "cell_type": "code",
   "execution_count": 15,
   "metadata": {},
   "outputs": [
    {
     "name": "stderr",
     "output_type": "stream",
     "text": [
      "/Users/sinitame/anaconda3/lib/python3.7/site-packages/sklearn/linear_model/sag.py:337: ConvergenceWarning: The max_iter was reached which means the coef_ did not converge\n",
      "  \"the coef_ did not converge\", ConvergenceWarning)\n"
     ]
    },
    {
     "data": {
      "text/plain": [
       "LogisticRegression(C=1.0, class_weight=None, dual=False, fit_intercept=True,\n",
       "                   intercept_scaling=1, l1_ratio=None, max_iter=1000,\n",
       "                   multi_class='multinomial', n_jobs=None, penalty='l1',\n",
       "                   random_state=None, solver='saga', tol=0.0001, verbose=0,\n",
       "                   warm_start=False)"
      ]
     },
     "execution_count": 15,
     "metadata": {},
     "output_type": "execute_result"
    }
   ],
   "source": [
    "clf_l1_LR.fit(x_train, y_train)"
   ]
  },
  {
   "cell_type": "code",
   "execution_count": 16,
   "metadata": {},
   "outputs": [
    {
     "name": "stderr",
     "output_type": "stream",
     "text": [
      "/Users/sinitame/anaconda3/lib/python3.7/site-packages/sklearn/linear_model/sag.py:337: ConvergenceWarning: The max_iter was reached which means the coef_ did not converge\n",
      "  \"the coef_ did not converge\", ConvergenceWarning)\n"
     ]
    },
    {
     "data": {
      "text/plain": [
       "LogisticRegression(C=1.0, class_weight=None, dual=False, fit_intercept=True,\n",
       "                   intercept_scaling=1, l1_ratio=None, max_iter=1000,\n",
       "                   multi_class='multinomial', n_jobs=None, penalty='l2',\n",
       "                   random_state=None, solver='saga', tol=0.0001, verbose=0,\n",
       "                   warm_start=False)"
      ]
     },
     "execution_count": 16,
     "metadata": {},
     "output_type": "execute_result"
    }
   ],
   "source": [
    "clf_l2_LR.fit(x_train, y_train)"
   ]
  },
  {
   "cell_type": "markdown",
   "metadata": {},
   "source": [
    "## Test models"
   ]
  },
  {
   "cell_type": "code",
   "execution_count": 17,
   "metadata": {},
   "outputs": [],
   "source": [
    "predictions_l1 = clf_l1_LR.predict(x_test)"
   ]
  },
  {
   "cell_type": "code",
   "execution_count": 18,
   "metadata": {},
   "outputs": [],
   "source": [
    "predictions_l2 = clf_l2_LR.predict(x_test)"
   ]
  },
  {
   "cell_type": "code",
   "execution_count": 19,
   "metadata": {},
   "outputs": [
    {
     "name": "stdout",
     "output_type": "stream",
     "text": [
      "0.5\n"
     ]
    }
   ],
   "source": [
    "score_l1 = clf_l1_LR.score(x_test, y_test)\n",
    "print(score_l1)"
   ]
  },
  {
   "cell_type": "code",
   "execution_count": 20,
   "metadata": {},
   "outputs": [
    {
     "name": "stdout",
     "output_type": "stream",
     "text": [
      "0.5\n"
     ]
    }
   ],
   "source": [
    "score_l2 = clf_l2_LR.score(x_test, y_test)\n",
    "print(score_l1)"
   ]
  },
  {
   "cell_type": "markdown",
   "metadata": {},
   "source": [
    "## Confusion matrix"
   ]
  },
  {
   "cell_type": "code",
   "execution_count": 21,
   "metadata": {},
   "outputs": [
    {
     "name": "stdout",
     "output_type": "stream",
     "text": [
      "[[0 1 0]\n",
      " [0 2 0]\n",
      " [3 0 2]]\n"
     ]
    }
   ],
   "source": [
    "cm_l1 = metrics.confusion_matrix(y_test, predictions_l1)\n",
    "print(cm_l1)"
   ]
  },
  {
   "cell_type": "code",
   "execution_count": 22,
   "metadata": {},
   "outputs": [
    {
     "name": "stdout",
     "output_type": "stream",
     "text": [
      "[[0 1 0]\n",
      " [0 2 0]\n",
      " [3 0 2]]\n"
     ]
    }
   ],
   "source": [
    "cm_l2 = metrics.confusion_matrix(y_test, predictions_l2)\n",
    "print(cm_l2)"
   ]
  },
  {
   "cell_type": "markdown",
   "metadata": {},
   "source": [
    "## Probabilities"
   ]
  },
  {
   "cell_type": "code",
   "execution_count": 23,
   "metadata": {},
   "outputs": [
    {
     "data": {
      "text/plain": [
       "array([[0.20089303, 0.48165593, 0.31745104],\n",
       "       [0.39587385, 0.13397951, 0.47014665],\n",
       "       [0.40647729, 0.14126043, 0.45226228],\n",
       "       [0.04293027, 0.86843974, 0.08863   ],\n",
       "       [0.17791383, 0.52891658, 0.29316959],\n",
       "       [0.65794876, 0.16415683, 0.17789441],\n",
       "       [0.4043328 , 0.30162753, 0.29403967],\n",
       "       [0.73313554, 0.10622685, 0.1606376 ]])"
      ]
     },
     "execution_count": 23,
     "metadata": {},
     "output_type": "execute_result"
    }
   ],
   "source": [
    "clf_l1_LR.predict_proba(x_test)"
   ]
  },
  {
   "cell_type": "markdown",
   "metadata": {},
   "source": [
    "## Informations about the models"
   ]
  },
  {
   "cell_type": "code",
   "execution_count": 24,
   "metadata": {},
   "outputs": [],
   "source": [
    "coef_l1_LR = clf_l1_LR.coef_.ravel()\n",
    "coef_l2_LR = clf_l2_LR.coef_.ravel()\n",
    "\n",
    "# coef_l1_LR contains zeros due to the\n",
    "# L1 sparsity inducing norm\n",
    "\n",
    "sparsity_l1_LR = np.mean(coef_l1_LR == 0) * 100\n",
    "sparsity_l2_LR = np.mean(coef_l2_LR == 0) * 100"
   ]
  },
  {
   "cell_type": "code",
   "execution_count": 25,
   "metadata": {},
   "outputs": [
    {
     "name": "stdout",
     "output_type": "stream",
     "text": [
      "Number of parameters 45312\n",
      "Sparcity 92.54943502824858\n"
     ]
    }
   ],
   "source": [
    "print(\"Number of parameters\", len(coef_l1_LR))\n",
    "print(\"Sparcity\", sparsity_l1_LR)"
   ]
  },
  {
   "cell_type": "code",
   "execution_count": 26,
   "metadata": {},
   "outputs": [
    {
     "name": "stdout",
     "output_type": "stream",
     "text": [
      "0.0\n"
     ]
    }
   ],
   "source": [
    "print(sparsity_l2_LR)"
   ]
  },
  {
   "cell_type": "markdown",
   "metadata": {},
   "source": [
    "## Relevant features"
   ]
  },
  {
   "cell_type": "code",
   "execution_count": 27,
   "metadata": {},
   "outputs": [
    {
     "name": "stdout",
     "output_type": "stream",
     "text": [
      "(3, 15104)\n"
     ]
    }
   ],
   "source": [
    "print(clf_l1_LR.coef_.shape)"
   ]
  },
  {
   "cell_type": "code",
   "execution_count": 28,
   "metadata": {},
   "outputs": [
    {
     "name": "stdout",
     "output_type": "stream",
     "text": [
      "Number of relevant features for category 0 : 1190\n",
      "Number of relevant features for category 1 : 1197\n",
      "Number of relevant features for category 2 : 989\n"
     ]
    }
   ],
   "source": [
    "categories = {}\n",
    "\n",
    "for i,cat_features in enumerate(clf_l1_LR.coef_):\n",
    "    relevant_features = np.where(cat_features != 0)\n",
    "    categories[i] = df_features.columns[relevant_features].to_list()\n",
    "    print(\"Number of relevant features for category {} :\".format(i),len(relevant_features[0]))\n",
    "    "
   ]
  },
  {
   "cell_type": "code",
   "execution_count": 29,
   "metadata": {},
   "outputs": [],
   "source": [
    "def intersection(lst1, lst2): \n",
    "    return list(set(lst1) & set(lst2))"
   ]
  },
  {
   "cell_type": "code",
   "execution_count": 30,
   "metadata": {},
   "outputs": [
    {
     "name": "stdout",
     "output_type": "stream",
     "text": [
      "Common features between cat0 and cat1 531\n"
     ]
    }
   ],
   "source": [
    "intersection_cat0_cat1 = intersection(categories[0], categories[1])\n",
    "print(\"Common features between cat0 and cat1\", len(intersection_cat0_cat1))"
   ]
  },
  {
   "cell_type": "code",
   "execution_count": 31,
   "metadata": {},
   "outputs": [
    {
     "name": "stdout",
     "output_type": "stream",
     "text": [
      "Common features between cat1 and cat2 337\n"
     ]
    }
   ],
   "source": [
    "intersection_cat1_cat2 = intersection(categories[1], categories[2])\n",
    "print(\"Common features between cat1 and cat2\", len(intersection_cat1_cat2))"
   ]
  },
  {
   "cell_type": "code",
   "execution_count": 32,
   "metadata": {},
   "outputs": [
    {
     "name": "stdout",
     "output_type": "stream",
     "text": [
      "Common features between cat2 and cat0 341\n"
     ]
    }
   ],
   "source": [
    "intersection_cat2_cat0 = intersection(categories[2], categories[0])\n",
    "print(\"Common features between cat2 and cat0\", len(intersection_cat2_cat0))"
   ]
  },
  {
   "cell_type": "code",
   "execution_count": 33,
   "metadata": {},
   "outputs": [],
   "source": [
    "from collections import Counter\n",
    "from collections import defaultdict\n",
    "\n",
    "def get_uncommon_features(categories):\n",
    "    n = len(categories.keys())\n",
    "    intersection  = []\n",
    "    unique_features = {}\n",
    "    \n",
    "    for k in range(n):\n",
    "        unique_features[k] = Counter(categories[k])\n",
    "    \n",
    "    for i in range(n):\n",
    "        features_cat0 = Counter(categories[i%3])\n",
    "        features_cat1 = Counter(categories[(i+1)%3])\n",
    "        intersection = features_cat0 & features_cat1\n",
    "        unique_features[i] = unique_features[i] - intersection\n",
    "        unique_features[(i+1)%3] = unique_features[(i+1)%3] - intersection\n",
    "    \n",
    "    for k in range(n):\n",
    "        unique_features[k] = list(unique_features[k].elements())\n",
    "    \n",
    "    return unique_features"
   ]
  },
  {
   "cell_type": "code",
   "execution_count": 34,
   "metadata": {},
   "outputs": [],
   "source": [
    "unique_features = get_uncommon_features(categories)"
   ]
  },
  {
   "cell_type": "code",
   "execution_count": 35,
   "metadata": {},
   "outputs": [
    {
     "name": "stdout",
     "output_type": "stream",
     "text": [
      "Unique features for category 0: 416\n"
     ]
    }
   ],
   "source": [
    "print(\"Unique features for category 0:\", len(unique_features[0]))"
   ]
  },
  {
   "cell_type": "code",
   "execution_count": 36,
   "metadata": {},
   "outputs": [
    {
     "name": "stdout",
     "output_type": "stream",
     "text": [
      "Unique features for category 1: 427\n"
     ]
    }
   ],
   "source": [
    "print(\"Unique features for category 1:\", len(unique_features[1]))"
   ]
  },
  {
   "cell_type": "code",
   "execution_count": 37,
   "metadata": {},
   "outputs": [
    {
     "name": "stdout",
     "output_type": "stream",
     "text": [
      "Unique features for category 2: 409\n"
     ]
    }
   ],
   "source": [
    "print(\"Unique features for category 2:\", (len(unique_features[2])))"
   ]
  },
  {
   "cell_type": "markdown",
   "metadata": {},
   "source": [
    "# Logisitc regression with selected features"
   ]
  },
  {
   "cell_type": "code",
   "execution_count": 38,
   "metadata": {},
   "outputs": [],
   "source": [
    "selected_data = pd.read_csv(\"../data/selected_train.csv\", sep=\",\")"
   ]
  },
  {
   "cell_type": "code",
   "execution_count": 39,
   "metadata": {},
   "outputs": [],
   "source": [
    "df_features_selected = selected_data[selected_data.columns.difference(['label'])]\n",
    "df_labels_selected = selected_data[\"label\"]"
   ]
  },
  {
   "cell_type": "code",
   "execution_count": 40,
   "metadata": {},
   "outputs": [
    {
     "name": "stdout",
     "output_type": "stream",
     "text": [
      "(29, 56)\n",
      "(29,)\n"
     ]
    }
   ],
   "source": [
    "X_selected = df_features_selected.values\n",
    "print(X_selected.shape)\n",
    "\n",
    "y_selected = df_labels.values\n",
    "print(y_selected.shape)"
   ]
  },
  {
   "cell_type": "code",
   "execution_count": 41,
   "metadata": {},
   "outputs": [],
   "source": [
    "from sklearn.model_selection import train_test_split\n",
    "x_train_s, x_test_s, y_train_s, y_test_s = train_test_split(X_selected, y_selected, test_size=0.6, random_state=0)"
   ]
  },
  {
   "cell_type": "code",
   "execution_count": 42,
   "metadata": {},
   "outputs": [],
   "source": [
    "clf_l2_selected = LogisticRegression(penalty='l2', solver='saga', max_iter=1000, multi_class='multinomial', C=0.01)"
   ]
  },
  {
   "cell_type": "code",
   "execution_count": 43,
   "metadata": {},
   "outputs": [
    {
     "data": {
      "text/plain": [
       "LogisticRegression(C=0.01, class_weight=None, dual=False, fit_intercept=True,\n",
       "                   intercept_scaling=1, l1_ratio=None, max_iter=1000,\n",
       "                   multi_class='multinomial', n_jobs=None, penalty='l2',\n",
       "                   random_state=None, solver='saga', tol=0.0001, verbose=0,\n",
       "                   warm_start=False)"
      ]
     },
     "execution_count": 43,
     "metadata": {},
     "output_type": "execute_result"
    }
   ],
   "source": [
    "clf_l2_selected.fit(x_train_s, y_train_s)"
   ]
  },
  {
   "cell_type": "code",
   "execution_count": 44,
   "metadata": {},
   "outputs": [],
   "source": [
    "predict = clf_l2_selected.predict(x_test_s)"
   ]
  },
  {
   "cell_type": "code",
   "execution_count": 45,
   "metadata": {},
   "outputs": [
    {
     "name": "stdout",
     "output_type": "stream",
     "text": [
      "0.8333333333333334\n"
     ]
    }
   ],
   "source": [
    "score_l2_s = clf_l2_selected.score(x_test_s, y_test_s)\n",
    "print(score_l2_s)"
   ]
  },
  {
   "cell_type": "code",
   "execution_count": 46,
   "metadata": {},
   "outputs": [
    {
     "name": "stdout",
     "output_type": "stream",
     "text": [
      "[[5 0 0]\n",
      " [0 6 0]\n",
      " [2 1 4]]\n"
     ]
    }
   ],
   "source": [
    "cm_l2_s = metrics.confusion_matrix(y_test_s, predict)\n",
    "print(cm_l2_s)"
   ]
  },
  {
   "cell_type": "code",
   "execution_count": null,
   "metadata": {},
   "outputs": [],
   "source": []
  }
 ],
 "metadata": {
  "kernelspec": {
   "display_name": "Python 3",
   "language": "python",
   "name": "python3"
  },
  "language_info": {
   "codemirror_mode": {
    "name": "ipython",
    "version": 3
   },
   "file_extension": ".py",
   "mimetype": "text/x-python",
   "name": "python",
   "nbconvert_exporter": "python",
   "pygments_lexer": "ipython3",
   "version": "3.7.3"
  }
 },
 "nbformat": 4,
 "nbformat_minor": 4
}
