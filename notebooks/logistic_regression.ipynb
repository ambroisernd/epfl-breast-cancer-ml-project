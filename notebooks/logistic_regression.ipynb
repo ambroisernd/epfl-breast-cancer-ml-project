{
 "cells": [
  {
   "cell_type": "code",
   "execution_count": 1,
   "metadata": {},
   "outputs": [],
   "source": [
    "import sys\n",
    "sys.path.append(\"../src\")"
   ]
  },
  {
   "cell_type": "code",
   "execution_count": 2,
   "metadata": {},
   "outputs": [],
   "source": [
    "import pandas as pd\n",
    "from sklearn.linear_model import LogisticRegression\n",
    "from sklearn.model_selection import KFold\n",
    "from sklearn.metrics import f1_score\n",
    "from sklearn import metrics\n",
    "import matplotlib.pyplot as plt\n",
    "import seaborn as sns\n",
    "import numpy as np\n",
    "import warnings\n",
    "warnings.filterwarnings('ignore')\n",
    "%matplotlib notebook"
   ]
  },
  {
   "cell_type": "markdown",
   "metadata": {},
   "source": [
    "# Load dataset and do some preprocessing"
   ]
  },
  {
   "cell_type": "code",
   "execution_count": 3,
   "metadata": {},
   "outputs": [],
   "source": [
    "train_path = \"../data/train.csv\""
   ]
  },
  {
   "cell_type": "code",
   "execution_count": 4,
   "metadata": {},
   "outputs": [],
   "source": [
    "df_data = pd.read_csv(train_path, sep=\",\")"
   ]
  },
  {
   "cell_type": "code",
   "execution_count": 5,
   "metadata": {},
   "outputs": [],
   "source": [
    "df_features = df_data[df_data.columns.difference(['full_label', 'label'])]\n",
    "df_labels = df_data[\"label\"]"
   ]
  },
  {
   "cell_type": "markdown",
   "metadata": {},
   "source": [
    "## Set X (y) matrix(vector)"
   ]
  },
  {
   "cell_type": "code",
   "execution_count": 6,
   "metadata": {},
   "outputs": [
    {
     "name": "stdout",
     "output_type": "stream",
     "text": [
      "(29, 15104)\n"
     ]
    }
   ],
   "source": [
    "X = df_features.values\n",
    "print(X.shape)"
   ]
  },
  {
   "cell_type": "code",
   "execution_count": 7,
   "metadata": {},
   "outputs": [
    {
     "name": "stdout",
     "output_type": "stream",
     "text": [
      "(29,)\n"
     ]
    }
   ],
   "source": [
    "y = df_labels.values\n",
    "print(y.shape)"
   ]
  },
  {
   "cell_type": "markdown",
   "metadata": {},
   "source": [
    "# Logistic regression"
   ]
  },
  {
   "cell_type": "code",
   "execution_count": 8,
   "metadata": {},
   "outputs": [],
   "source": [
    "from sklearn.model_selection import train_test_split\n",
    "X_train, X_test, y_train, y_test = train_test_split(X, y, test_size=0.25, random_state=0)"
   ]
  },
  {
   "cell_type": "code",
   "execution_count": 9,
   "metadata": {},
   "outputs": [
    {
     "name": "stdout",
     "output_type": "stream",
     "text": [
      "(21, 15104)\n",
      "(21,)\n",
      "(8, 15104)\n",
      "(8,)\n"
     ]
    }
   ],
   "source": [
    "print(X_train.shape)\n",
    "print(y_train.shape)\n",
    "print(X_test.shape)\n",
    "print(y_test.shape)"
   ]
  },
  {
   "cell_type": "markdown",
   "metadata": {},
   "source": [
    "## Define the models"
   ]
  },
  {
   "cell_type": "code",
   "execution_count": 10,
   "metadata": {},
   "outputs": [],
   "source": [
    "clf_l1_LR = LogisticRegression(penalty='l1', solver='saga', max_iter=1000, multi_class='multinomial')\n",
    "clf_l2_LR = LogisticRegression(penalty='l2', solver='saga', max_iter=1000, multi_class='multinomial')"
   ]
  },
  {
   "cell_type": "markdown",
   "metadata": {},
   "source": [
    "## Train models"
   ]
  },
  {
   "cell_type": "code",
   "execution_count": 11,
   "metadata": {},
   "outputs": [
    {
     "data": {
      "text/plain": [
       "LogisticRegression(C=1.0, class_weight=None, dual=False, fit_intercept=True,\n",
       "                   intercept_scaling=1, l1_ratio=None, max_iter=1000,\n",
       "                   multi_class='multinomial', n_jobs=None, penalty='l1',\n",
       "                   random_state=None, solver='saga', tol=0.0001, verbose=0,\n",
       "                   warm_start=False)"
      ]
     },
     "execution_count": 11,
     "metadata": {},
     "output_type": "execute_result"
    }
   ],
   "source": [
    "clf_l1_LR.fit(X_train, y_train)"
   ]
  },
  {
   "cell_type": "code",
   "execution_count": 12,
   "metadata": {},
   "outputs": [
    {
     "data": {
      "text/plain": [
       "LogisticRegression(C=1.0, class_weight=None, dual=False, fit_intercept=True,\n",
       "                   intercept_scaling=1, l1_ratio=None, max_iter=1000,\n",
       "                   multi_class='multinomial', n_jobs=None, penalty='l2',\n",
       "                   random_state=None, solver='saga', tol=0.0001, verbose=0,\n",
       "                   warm_start=False)"
      ]
     },
     "execution_count": 12,
     "metadata": {},
     "output_type": "execute_result"
    }
   ],
   "source": [
    "clf_l2_LR.fit(X_train, y_train)"
   ]
  },
  {
   "cell_type": "markdown",
   "metadata": {},
   "source": [
    "## Test models"
   ]
  },
  {
   "cell_type": "code",
   "execution_count": 13,
   "metadata": {},
   "outputs": [],
   "source": [
    "predictions_l1 = clf_l1_LR.predict(X_test)\n",
    "predictions_l2 = clf_l2_LR.predict(X_test)"
   ]
  },
  {
   "cell_type": "code",
   "execution_count": 14,
   "metadata": {},
   "outputs": [
    {
     "name": "stdout",
     "output_type": "stream",
     "text": [
      "0.5\n"
     ]
    }
   ],
   "source": [
    "score_l1 = clf_l1_LR.score(X_test, y_test)\n",
    "print(score_l1)"
   ]
  },
  {
   "cell_type": "code",
   "execution_count": 15,
   "metadata": {},
   "outputs": [
    {
     "name": "stdout",
     "output_type": "stream",
     "text": [
      "0.5\n"
     ]
    }
   ],
   "source": [
    "score_l2 = clf_l2_LR.score(X_test, y_test)\n",
    "print(score_l1)"
   ]
  },
  {
   "cell_type": "markdown",
   "metadata": {},
   "source": [
    "## Confusion matrix"
   ]
  },
  {
   "cell_type": "code",
   "execution_count": 16,
   "metadata": {},
   "outputs": [
    {
     "name": "stdout",
     "output_type": "stream",
     "text": [
      "[[0 1 0]\n",
      " [0 2 0]\n",
      " [3 0 2]]\n"
     ]
    }
   ],
   "source": [
    "cm_l1 = metrics.confusion_matrix(y_test, predictions_l1)\n",
    "print(cm_l1)"
   ]
  },
  {
   "cell_type": "code",
   "execution_count": 17,
   "metadata": {},
   "outputs": [
    {
     "name": "stdout",
     "output_type": "stream",
     "text": [
      "[[0 1 0]\n",
      " [0 2 0]\n",
      " [3 0 2]]\n"
     ]
    }
   ],
   "source": [
    "cm_l2 = metrics.confusion_matrix(y_test, predictions_l2)\n",
    "print(cm_l2)"
   ]
  },
  {
   "cell_type": "markdown",
   "metadata": {},
   "source": [
    "## Probabilities"
   ]
  },
  {
   "cell_type": "code",
   "execution_count": 18,
   "metadata": {},
   "outputs": [
    {
     "data": {
      "text/plain": [
       "array([[0.20059094, 0.48228393, 0.31712514],\n",
       "       [0.3956493 , 0.13396333, 0.47038738],\n",
       "       [0.40638828, 0.14122511, 0.45238662],\n",
       "       [0.04289693, 0.86862957, 0.0884735 ],\n",
       "       [0.17816432, 0.5285068 , 0.29332888],\n",
       "       [0.65810027, 0.16405058, 0.17784915],\n",
       "       [0.40416983, 0.30161129, 0.29421888],\n",
       "       [0.73306093, 0.10618686, 0.16075221]])"
      ]
     },
     "execution_count": 18,
     "metadata": {},
     "output_type": "execute_result"
    }
   ],
   "source": [
    "clf_l1_LR.predict_proba(X_test)"
   ]
  },
  {
   "cell_type": "markdown",
   "metadata": {},
   "source": [
    "# Validation with KFold"
   ]
  },
  {
   "cell_type": "code",
   "execution_count": 24,
   "metadata": {},
   "outputs": [],
   "source": [
    "n_splits = 5\n",
    "min_iter = 0\n",
    "max_iter = 4\n",
    "kfold_accuracy_l1 = []\n",
    "kfold_f1_l1 = []\n",
    "kfold_accuracy_l2 = []\n",
    "kfold_f1_l2 = []\n",
    "\n",
    "for k_C in range(min_iter,max_iter+1):\n",
    "    kf = KFold(n_splits=n_splits)\n",
    "    accuracy_l1 = []\n",
    "    f1_l1 = []\n",
    "    accuracy_l2 = []\n",
    "    f1_l2 = []\n",
    "    \n",
    "    for train_index, test_index in kf.split(X):\n",
    "        X_train, X_test = X[train_index], X[test_index]\n",
    "        y_train, y_test = y[train_index], y[test_index]\n",
    "\n",
    "        # Trainning\n",
    "        clf_l1_LR = LogisticRegression(penalty='l1', solver='saga', max_iter=10000, multi_class='multinomial', C=10**-k_C)\n",
    "        clf_l2_LR = LogisticRegression(penalty='l2', solver='saga', max_iter=10000, multi_class='multinomial', C=10**-k_C)\n",
    "        \n",
    "        clf_l1_LR.fit(X_train, y_train)\n",
    "        clf_l2_LR.fit(X_train, y_train)\n",
    "\n",
    "        #Accuraccy and F1 score\n",
    "        y_predict_l1 = clf_l1_LR.predict(X_test)\n",
    "        accuracy_l1.append(clf_l2_LR.score(X_test, y_test))\n",
    "        f1_l1.append(f1_score(y_test, y_predict_l1, average='micro'))\n",
    "\n",
    "        y_predict_l2 = clf_l1_LR.predict(X_test)\n",
    "        accuracy_l2.append(clf_l2_LR.score(X_test, y_test))\n",
    "        f1_l2.append(f1_score(y_test, y_predict_l2, average='micro'))\n",
    "        \n",
    "    kfold_accuracy_l1.append(np.mean(accuracy_l1))\n",
    "    kfold_f1_l1.append(np.mean(f1_l1))\n",
    "    kfold_accuracy_l2.append(np.mean(accuracy_l2))\n",
    "    kfold_f1_l2.append(np.mean(f1_l2))\n",
    "        "
   ]
  },
  {
   "cell_type": "code",
   "execution_count": 25,
   "metadata": {},
   "outputs": [
    {
     "data": {
      "image/png": "[encoded data removed]",
      "text/plain": [
       "<Figure size 1080x360 with 1 Axes>"
      ]
     },
     "metadata": {
      "needs_background": "light"
     },
     "output_type": "display_data"
    }
   ],
   "source": [
    "plt.figure(figsize=(15,5))\n",
    "plt.plot(np.arange(min_iter,max_iter+1,1), kfold_accuracy_l1)\n",
    "plt.plot(np.arange(min_iter,max_iter+1,1), kfold_accuracy_l2)\n",
    "plt.show()"
   ]
  },
  {
   "cell_type": "code",
   "execution_count": 26,
   "metadata": {},
   "outputs": [
    {
     "data": {
      "image/png": "[encoded data removed]",
      "text/plain": [
       "<Figure size 1080x360 with 1 Axes>"
      ]
     },
     "metadata": {
      "needs_background": "light"
     },
     "output_type": "display_data"
    }
   ],
   "source": [
    "plt.figure(figsize=(15,5))\n",
    "plt.plot(np.arange(min_iter,max_iter+1,1), kfold_f1_l1)\n",
    "plt.plot(np.arange(min_iter,max_iter+1,1), kfold_f1_l2)\n",
    "plt.show()"
   ]
  },
  {
   "cell_type": "markdown",
   "metadata": {},
   "source": [
    "# Logisitc regression with selected features"
   ]
  },
  {
   "cell_type": "code",
   "execution_count": 27,
   "metadata": {},
   "outputs": [],
   "source": [
    "selected_data = pd.read_csv(\"../data/selected_train.csv\", sep=\",\")"
   ]
  },
  {
   "cell_type": "code",
   "execution_count": 28,
   "metadata": {},
   "outputs": [],
   "source": [
    "df_features_selected = selected_data[selected_data.columns.difference(['label'])]\n",
    "df_labels_selected = selected_data[\"label\"]"
   ]
  },
  {
   "cell_type": "code",
   "execution_count": 29,
   "metadata": {},
   "outputs": [
    {
     "name": "stdout",
     "output_type": "stream",
     "text": [
      "(29, 56)\n",
      "(29,)\n"
     ]
    }
   ],
   "source": [
    "X_selected = df_features_selected.values\n",
    "print(X_selected.shape)\n",
    "\n",
    "y_selected = df_labels.values\n",
    "print(y_selected.shape)"
   ]
  },
  {
   "cell_type": "markdown",
   "metadata": {},
   "source": [
    "# Validation with KFold"
   ]
  },
  {
   "cell_type": "code",
   "execution_count": 41,
   "metadata": {},
   "outputs": [],
   "source": [
    "n_splits = 5\n",
    "min_iter = 2\n",
    "max_iter = 6\n",
    "kfold_accuracy_l1_s = []\n",
    "kfold_f1_l1_s = []\n",
    "kfold_accuracy_l2_s = []\n",
    "kfold_f1_l2_s = []\n",
    "\n",
    "for k in range(min_iter,max_iter+1):\n",
    "    kf = KFold(n_splits=n_splits)\n",
    "    accuracy_l1 = []\n",
    "    f1_l1 = []\n",
    "    accuracy_l2 = []\n",
    "    f1_l2 = []\n",
    "    \n",
    "    for train_index, test_index in kf.split(X_selected):\n",
    "        X_train, X_test = X_selected[train_index], X_selected[test_index]\n",
    "        y_train, y_test = y_selected[train_index], y_selected[test_index]\n",
    "\n",
    "        # Trainning\n",
    "        clf_l1_LR = LogisticRegression(penalty='l1', solver='saga', max_iter=10**k, multi_class='multinomial', C=1)\n",
    "        clf_l2_LR = LogisticRegression(penalty='l2', solver='saga', max_iter=10**k, multi_class='multinomial', C=1)\n",
    "        \n",
    "        clf_l1_LR.fit(X_train, y_train)\n",
    "        clf_l2_LR.fit(X_train, y_train)\n",
    "\n",
    "        #Accuraccy and F1 score\n",
    "        y_predict_l1 = clf_l1_LR.predict(X_test)\n",
    "        accuracy_l1.append(clf_l2_LR.score(X_test, y_test))\n",
    "        f1_l1.append(f1_score(y_test, y_predict_l1, average='micro'))\n",
    "\n",
    "        y_predict_l2 = clf_l1_LR.predict(X_test)\n",
    "        accuracy_l2.append(clf_l2_LR.score(X_test, y_test))\n",
    "        f1_l2.append(f1_score(y_test, y_predict_l2, average='micro'))\n",
    "        \n",
    "    kfold_accuracy_l1_s.append(np.mean(accuracy_l1))\n",
    "    kfold_f1_l1_s.append(np.mean(f1_l1))\n",
    "    kfold_accuracy_l2_s.append(np.mean(accuracy_l2))\n",
    "    kfold_f1_l2_s.append(np.mean(f1_l2))\n",
    "        "
   ]
  },
  {
   "cell_type": "code",
   "execution_count": 42,
   "metadata": {},
   "outputs": [
    {
     "data": {
      "image/png": "[encoded data removed]",
      "text/plain": [
       "<Figure size 1080x360 with 1 Axes>"
      ]
     },
     "metadata": {
      "needs_background": "light"
     },
     "output_type": "display_data"
    }
   ],
   "source": [
    "plt.figure(figsize=(15,5))\n",
    "plt.plot(np.arange(min_iter,max_iter+1,1), kfold_accuracy_l1_s)\n",
    "plt.plot(np.arange(min_iter,max_iter+1,1), kfold_accuracy_l2_s)\n",
    "plt.show()"
   ]
  },
  {
   "cell_type": "code",
   "execution_count": 43,
   "metadata": {},
   "outputs": [
    {
     "data": {
      "image/png": "[encoded data removed]",
      "text/plain": [
       "<Figure size 1080x360 with 1 Axes>"
      ]
     },
     "metadata": {
      "needs_background": "light"
     },
     "output_type": "display_data"
    }
   ],
   "source": [
    "plt.figure(figsize=(15,5))\n",
    "plt.plot(np.arange(min_iter,max_iter+1,1), kfold_f1_l1_s)\n",
    "plt.plot(np.arange(min_iter,max_iter+1,1), kfold_f1_l2_s)\n",
    "plt.show()"
   ]
  },
  {
   "cell_type": "code",
   "execution_count": null,
   "metadata": {},
   "outputs": [],
   "source": []
  }
 ],
 "metadata": {
  "kernelspec": {
   "display_name": "Python 3",
   "language": "python",
   "name": "python3"
  },
  "language_info": {
   "codemirror_mode": {
    "name": "ipython",
    "version": 3
   },
   "file_extension": ".py",
   "mimetype": "text/x-python",
   "name": "python",
   "nbconvert_exporter": "python",
   "pygments_lexer": "ipython3",
   "version": "3.7.3"
  }
 },
 "nbformat": 4,
 "nbformat_minor": 4
}
