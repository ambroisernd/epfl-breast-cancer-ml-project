{
 "cells": [
  {
   "cell_type": "code",
   "execution_count": 7,
   "metadata": {},
   "outputs": [],
   "source": [
    "import sys\n",
    "sys.path.append(\"../src\")"
   ]
  },
  {
   "cell_type": "code",
   "execution_count": 8,
   "metadata": {},
   "outputs": [],
   "source": [
    "import pandas as pd\n",
    "from sklearn.linear_model import LogisticRegression\n",
    "from sklearn import metrics\n",
    "import matplotlib.pyplot as plt\n",
    "import seaborn as sns\n",
    "import numpy as np\n",
    "%matplotlib notebook"
   ]
  },
  {
   "cell_type": "code",
   "execution_count": 9,
   "metadata": {},
   "outputs": [],
   "source": [
    "raw_file_path = \"../data/raw_important_genes.csv\""
   ]
  },
  {
   "cell_type": "code",
   "execution_count": 10,
   "metadata": {},
   "outputs": [],
   "source": [
    "df_raw_data = pd.read_csv(raw_file_path, sep=\";\")"
   ]
  },
  {
   "cell_type": "code",
   "execution_count": 11,
   "metadata": {},
   "outputs": [
    {
     "data": {
      "text/html": [
       "<div>\n",
       "<style scoped>\n",
       "    .dataframe tbody tr th:only-of-type {\n",
       "        vertical-align: middle;\n",
       "    }\n",
       "\n",
       "    .dataframe tbody tr th {\n",
       "        vertical-align: top;\n",
       "    }\n",
       "\n",
       "    .dataframe thead th {\n",
       "        text-align: right;\n",
       "    }\n",
       "</style>\n",
       "<table border=\"1\" class=\"dataframe\">\n",
       "  <thead>\n",
       "    <tr style=\"text-align: right;\">\n",
       "      <th></th>\n",
       "      <th>Unnamed: 0</th>\n",
       "      <th>DHT vs CTRL</th>\n",
       "      <th>Unnamed: 2</th>\n",
       "      <th>Unnamed: 3</th>\n",
       "      <th>Unnamed: 4</th>\n",
       "      <th>Unnamed: 5</th>\n",
       "      <th>P4 vs CTRL</th>\n",
       "      <th>Unnamed: 7</th>\n",
       "    </tr>\n",
       "  </thead>\n",
       "  <tbody>\n",
       "    <tr>\n",
       "      <td>0</td>\n",
       "      <td>NaN</td>\n",
       "      <td>Up-Regulated</td>\n",
       "      <td>Down-Regulated</td>\n",
       "      <td>NaN</td>\n",
       "      <td>NaN</td>\n",
       "      <td>NaN</td>\n",
       "      <td>log2FoldChange</td>\n",
       "      <td>Gene</td>\n",
       "    </tr>\n",
       "    <tr>\n",
       "      <td>1</td>\n",
       "      <td>NaN</td>\n",
       "      <td>KLK3</td>\n",
       "      <td>ITIH2</td>\n",
       "      <td>NaN</td>\n",
       "      <td>NaN</td>\n",
       "      <td>NaN</td>\n",
       "      <td>SULT1C3</td>\n",
       "      <td>SCGB2A1</td>\n",
       "    </tr>\n",
       "    <tr>\n",
       "      <td>2</td>\n",
       "      <td>NaN</td>\n",
       "      <td>KLK2</td>\n",
       "      <td>LRP2</td>\n",
       "      <td>NaN</td>\n",
       "      <td>NaN</td>\n",
       "      <td>NaN</td>\n",
       "      <td>KLK3</td>\n",
       "      <td>CELSR1</td>\n",
       "    </tr>\n",
       "    <tr>\n",
       "      <td>3</td>\n",
       "      <td>NaN</td>\n",
       "      <td>SLC26A3</td>\n",
       "      <td>GRIK1</td>\n",
       "      <td>NaN</td>\n",
       "      <td>NaN</td>\n",
       "      <td>NaN</td>\n",
       "      <td>CXCL13</td>\n",
       "      <td>SCGB1D2</td>\n",
       "    </tr>\n",
       "    <tr>\n",
       "      <td>4</td>\n",
       "      <td>NaN</td>\n",
       "      <td>CUX2</td>\n",
       "      <td>GRIK3</td>\n",
       "      <td>NaN</td>\n",
       "      <td>NaN</td>\n",
       "      <td>NaN</td>\n",
       "      <td>KLK2</td>\n",
       "      <td>SCGB2A2</td>\n",
       "    </tr>\n",
       "  </tbody>\n",
       "</table>\n",
       "</div>"
      ],
      "text/plain": [
       "   Unnamed: 0   DHT vs CTRL      Unnamed: 2  Unnamed: 3  Unnamed: 4  \\\n",
       "0         NaN  Up-Regulated  Down-Regulated         NaN         NaN   \n",
       "1         NaN          KLK3           ITIH2         NaN         NaN   \n",
       "2         NaN          KLK2            LRP2         NaN         NaN   \n",
       "3         NaN       SLC26A3           GRIK1         NaN         NaN   \n",
       "4         NaN          CUX2           GRIK3         NaN         NaN   \n",
       "\n",
       "   Unnamed: 5      P4 vs CTRL Unnamed: 7  \n",
       "0         NaN  log2FoldChange       Gene  \n",
       "1         NaN         SULT1C3    SCGB2A1  \n",
       "2         NaN            KLK3     CELSR1  \n",
       "3         NaN          CXCL13    SCGB1D2  \n",
       "4         NaN            KLK2    SCGB2A2  "
      ]
     },
     "execution_count": 11,
     "metadata": {},
     "output_type": "execute_result"
    }
   ],
   "source": [
    "df_raw_data.head()"
   ]
  },
  {
   "cell_type": "code",
   "execution_count": 13,
   "metadata": {},
   "outputs": [],
   "source": [
    "values_array = df_raw_data.values.reshape(df_raw_data.shape[0]*df_raw_data.shape[1])"
   ]
  },
  {
   "cell_type": "code",
   "execution_count": 14,
   "metadata": {},
   "outputs": [],
   "source": [
    "df_values = pd.Series(values_array)"
   ]
  },
  {
   "cell_type": "code",
   "execution_count": 15,
   "metadata": {},
   "outputs": [
    {
     "data": {
      "text/plain": [
       "0               NaN\n",
       "1      Up-Regulated\n",
       "2    Down-Regulated\n",
       "3               NaN\n",
       "4               NaN\n",
       "dtype: object"
      ]
     },
     "execution_count": 15,
     "metadata": {},
     "output_type": "execute_result"
    }
   ],
   "source": [
    "df_values.head()"
   ]
  },
  {
   "cell_type": "code",
   "execution_count": 16,
   "metadata": {},
   "outputs": [],
   "source": [
    "df_cleaned_values = df_values[~df_values.isnull()]"
   ]
  },
  {
   "cell_type": "code",
   "execution_count": 17,
   "metadata": {},
   "outputs": [],
   "source": [
    "df_cleaned_values = df_cleaned_values.drop([1,2,6,7])"
   ]
  },
  {
   "cell_type": "code",
   "execution_count": 18,
   "metadata": {},
   "outputs": [],
   "source": [
    "df_cleaned_values = pd.DataFrame(df_cleaned_values, columns=['value'])"
   ]
  },
  {
   "cell_type": "code",
   "execution_count": 19,
   "metadata": {},
   "outputs": [
    {
     "data": {
      "text/html": [
       "<div>\n",
       "<style scoped>\n",
       "    .dataframe tbody tr th:only-of-type {\n",
       "        vertical-align: middle;\n",
       "    }\n",
       "\n",
       "    .dataframe tbody tr th {\n",
       "        vertical-align: top;\n",
       "    }\n",
       "\n",
       "    .dataframe thead th {\n",
       "        text-align: right;\n",
       "    }\n",
       "</style>\n",
       "<table border=\"1\" class=\"dataframe\">\n",
       "  <thead>\n",
       "    <tr style=\"text-align: right;\">\n",
       "      <th></th>\n",
       "      <th>value</th>\n",
       "    </tr>\n",
       "  </thead>\n",
       "  <tbody>\n",
       "    <tr>\n",
       "      <td>9</td>\n",
       "      <td>KLK3</td>\n",
       "    </tr>\n",
       "    <tr>\n",
       "      <td>10</td>\n",
       "      <td>ITIH2</td>\n",
       "    </tr>\n",
       "    <tr>\n",
       "      <td>14</td>\n",
       "      <td>SULT1C3</td>\n",
       "    </tr>\n",
       "    <tr>\n",
       "      <td>15</td>\n",
       "      <td>SCGB2A1</td>\n",
       "    </tr>\n",
       "    <tr>\n",
       "      <td>17</td>\n",
       "      <td>KLK2</td>\n",
       "    </tr>\n",
       "  </tbody>\n",
       "</table>\n",
       "</div>"
      ],
      "text/plain": [
       "      value\n",
       "9      KLK3\n",
       "10    ITIH2\n",
       "14  SULT1C3\n",
       "15  SCGB2A1\n",
       "17     KLK2"
      ]
     },
     "execution_count": 19,
     "metadata": {},
     "output_type": "execute_result"
    }
   ],
   "source": [
    "df_cleaned_values.head()"
   ]
  },
  {
   "cell_type": "code",
   "execution_count": 20,
   "metadata": {},
   "outputs": [],
   "source": [
    "df_cleaned_values.to_csv(\"../data/important_genes.csv\", index=False)"
   ]
  },
  {
   "cell_type": "markdown",
   "metadata": {},
   "source": [
    "## Select relevant features"
   ]
  },
  {
   "cell_type": "code",
   "execution_count": 21,
   "metadata": {},
   "outputs": [],
   "source": [
    "relevant_features = pd.read_csv(\"../data/important_genes.csv\", sep=\",\")"
   ]
  },
  {
   "cell_type": "code",
   "execution_count": 22,
   "metadata": {},
   "outputs": [
    {
     "data": {
      "text/html": [
       "<div>\n",
       "<style scoped>\n",
       "    .dataframe tbody tr th:only-of-type {\n",
       "        vertical-align: middle;\n",
       "    }\n",
       "\n",
       "    .dataframe tbody tr th {\n",
       "        vertical-align: top;\n",
       "    }\n",
       "\n",
       "    .dataframe thead th {\n",
       "        text-align: right;\n",
       "    }\n",
       "</style>\n",
       "<table border=\"1\" class=\"dataframe\">\n",
       "  <thead>\n",
       "    <tr style=\"text-align: right;\">\n",
       "      <th></th>\n",
       "      <th>value</th>\n",
       "    </tr>\n",
       "  </thead>\n",
       "  <tbody>\n",
       "    <tr>\n",
       "      <td>0</td>\n",
       "      <td>KLK3</td>\n",
       "    </tr>\n",
       "    <tr>\n",
       "      <td>1</td>\n",
       "      <td>ITIH2</td>\n",
       "    </tr>\n",
       "    <tr>\n",
       "      <td>2</td>\n",
       "      <td>SULT1C3</td>\n",
       "    </tr>\n",
       "    <tr>\n",
       "      <td>3</td>\n",
       "      <td>SCGB2A1</td>\n",
       "    </tr>\n",
       "    <tr>\n",
       "      <td>4</td>\n",
       "      <td>KLK2</td>\n",
       "    </tr>\n",
       "  </tbody>\n",
       "</table>\n",
       "</div>"
      ],
      "text/plain": [
       "     value\n",
       "0     KLK3\n",
       "1    ITIH2\n",
       "2  SULT1C3\n",
       "3  SCGB2A1\n",
       "4     KLK2"
      ]
     },
     "execution_count": 22,
     "metadata": {},
     "output_type": "execute_result"
    }
   ],
   "source": [
    "relevant_features.head()"
   ]
  },
  {
   "cell_type": "code",
   "execution_count": 23,
   "metadata": {},
   "outputs": [],
   "source": [
    "relevant_features_array = relevant_features.values.flatten()"
   ]
  },
  {
   "cell_type": "code",
   "execution_count": 24,
   "metadata": {},
   "outputs": [],
   "source": [
    "relevant_features_array = np.append(relevant_features_array, [\"label\"])"
   ]
  },
  {
   "cell_type": "code",
   "execution_count": 25,
   "metadata": {},
   "outputs": [],
   "source": [
    "df_data = pd.read_csv(\"../data/train.csv\", sep=\",\")"
   ]
  },
  {
   "cell_type": "code",
   "execution_count": 26,
   "metadata": {},
   "outputs": [],
   "source": [
    "df_data = df_data[relevant_features_array]"
   ]
  },
  {
   "cell_type": "code",
   "execution_count": 27,
   "metadata": {},
   "outputs": [
    {
     "data": {
      "text/html": [
       "<div>\n",
       "<style scoped>\n",
       "    .dataframe tbody tr th:only-of-type {\n",
       "        vertical-align: middle;\n",
       "    }\n",
       "\n",
       "    .dataframe tbody tr th {\n",
       "        vertical-align: top;\n",
       "    }\n",
       "\n",
       "    .dataframe thead th {\n",
       "        text-align: right;\n",
       "    }\n",
       "</style>\n",
       "<table border=\"1\" class=\"dataframe\">\n",
       "  <thead>\n",
       "    <tr style=\"text-align: right;\">\n",
       "      <th></th>\n",
       "      <th>KLK3</th>\n",
       "      <th>ITIH2</th>\n",
       "      <th>SULT1C3</th>\n",
       "      <th>SCGB2A1</th>\n",
       "      <th>KLK2</th>\n",
       "      <th>LRP2</th>\n",
       "      <th>KLK3</th>\n",
       "      <th>CELSR1</th>\n",
       "      <th>SLC26A3</th>\n",
       "      <th>GRIK1</th>\n",
       "      <th>...</th>\n",
       "      <th>RAB3B</th>\n",
       "      <th>CLEC7A</th>\n",
       "      <th>ADCY2</th>\n",
       "      <th>SPHKAP</th>\n",
       "      <th>CNMD</th>\n",
       "      <th>SERHL2</th>\n",
       "      <th>HPGD</th>\n",
       "      <th>GLYATL1</th>\n",
       "      <th>FGFR4</th>\n",
       "      <th>label</th>\n",
       "    </tr>\n",
       "  </thead>\n",
       "  <tbody>\n",
       "    <tr>\n",
       "      <td>0</td>\n",
       "      <td>3.984119</td>\n",
       "      <td>4.643010</td>\n",
       "      <td>3.984119</td>\n",
       "      <td>8.004603</td>\n",
       "      <td>3.984119</td>\n",
       "      <td>6.605385</td>\n",
       "      <td>3.984119</td>\n",
       "      <td>6.976595</td>\n",
       "      <td>4.742798</td>\n",
       "      <td>4.742798</td>\n",
       "      <td>...</td>\n",
       "      <td>4.643010</td>\n",
       "      <td>5.751396</td>\n",
       "      <td>5.366407</td>\n",
       "      <td>6.042517</td>\n",
       "      <td>4.366722</td>\n",
       "      <td>4.643010</td>\n",
       "      <td>3.984119</td>\n",
       "      <td>4.979502</td>\n",
       "      <td>4.366722</td>\n",
       "      <td>0</td>\n",
       "    </tr>\n",
       "    <tr>\n",
       "      <td>1</td>\n",
       "      <td>3.984119</td>\n",
       "      <td>3.984119</td>\n",
       "      <td>3.984119</td>\n",
       "      <td>7.454693</td>\n",
       "      <td>3.984119</td>\n",
       "      <td>7.620583</td>\n",
       "      <td>3.984119</td>\n",
       "      <td>7.746695</td>\n",
       "      <td>3.984119</td>\n",
       "      <td>4.907139</td>\n",
       "      <td>...</td>\n",
       "      <td>4.366282</td>\n",
       "      <td>6.164265</td>\n",
       "      <td>4.907139</td>\n",
       "      <td>6.837265</td>\n",
       "      <td>4.366282</td>\n",
       "      <td>4.741939</td>\n",
       "      <td>4.523022</td>\n",
       "      <td>4.366282</td>\n",
       "      <td>3.984119</td>\n",
       "      <td>0</td>\n",
       "    </tr>\n",
       "    <tr>\n",
       "      <td>2</td>\n",
       "      <td>3.984119</td>\n",
       "      <td>5.588960</td>\n",
       "      <td>3.984119</td>\n",
       "      <td>8.237920</td>\n",
       "      <td>4.816944</td>\n",
       "      <td>6.555290</td>\n",
       "      <td>3.984119</td>\n",
       "      <td>7.671801</td>\n",
       "      <td>4.816944</td>\n",
       "      <td>4.816944</td>\n",
       "      <td>...</td>\n",
       "      <td>5.146627</td>\n",
       "      <td>6.466886</td>\n",
       "      <td>6.638308</td>\n",
       "      <td>6.160291</td>\n",
       "      <td>3.984119</td>\n",
       "      <td>7.111343</td>\n",
       "      <td>3.984119</td>\n",
       "      <td>4.816944</td>\n",
       "      <td>5.588960</td>\n",
       "      <td>0</td>\n",
       "    </tr>\n",
       "    <tr>\n",
       "      <td>3</td>\n",
       "      <td>3.984119</td>\n",
       "      <td>5.285217</td>\n",
       "      <td>3.984119</td>\n",
       "      <td>8.749265</td>\n",
       "      <td>3.984119</td>\n",
       "      <td>8.702287</td>\n",
       "      <td>3.984119</td>\n",
       "      <td>8.191661</td>\n",
       "      <td>3.984119</td>\n",
       "      <td>6.560582</td>\n",
       "      <td>...</td>\n",
       "      <td>3.984119</td>\n",
       "      <td>6.115617</td>\n",
       "      <td>4.919178</td>\n",
       "      <td>6.189056</td>\n",
       "      <td>3.984119</td>\n",
       "      <td>4.650987</td>\n",
       "      <td>3.984119</td>\n",
       "      <td>3.984119</td>\n",
       "      <td>3.984119</td>\n",
       "      <td>0</td>\n",
       "    </tr>\n",
       "    <tr>\n",
       "      <td>4</td>\n",
       "      <td>3.984119</td>\n",
       "      <td>5.787031</td>\n",
       "      <td>3.984119</td>\n",
       "      <td>7.636661</td>\n",
       "      <td>3.984119</td>\n",
       "      <td>9.075697</td>\n",
       "      <td>3.984119</td>\n",
       "      <td>8.573623</td>\n",
       "      <td>4.968903</td>\n",
       "      <td>6.314672</td>\n",
       "      <td>...</td>\n",
       "      <td>3.984119</td>\n",
       "      <td>6.494848</td>\n",
       "      <td>4.559957</td>\n",
       "      <td>6.452012</td>\n",
       "      <td>3.984119</td>\n",
       "      <td>5.453445</td>\n",
       "      <td>4.793247</td>\n",
       "      <td>4.793247</td>\n",
       "      <td>4.559957</td>\n",
       "      <td>0</td>\n",
       "    </tr>\n",
       "  </tbody>\n",
       "</table>\n",
       "<p>5 rows × 57 columns</p>\n",
       "</div>"
      ],
      "text/plain": [
       "       KLK3     ITIH2   SULT1C3   SCGB2A1      KLK2      LRP2      KLK3  \\\n",
       "0  3.984119  4.643010  3.984119  8.004603  3.984119  6.605385  3.984119   \n",
       "1  3.984119  3.984119  3.984119  7.454693  3.984119  7.620583  3.984119   \n",
       "2  3.984119  5.588960  3.984119  8.237920  4.816944  6.555290  3.984119   \n",
       "3  3.984119  5.285217  3.984119  8.749265  3.984119  8.702287  3.984119   \n",
       "4  3.984119  5.787031  3.984119  7.636661  3.984119  9.075697  3.984119   \n",
       "\n",
       "     CELSR1   SLC26A3     GRIK1  ...     RAB3B    CLEC7A     ADCY2    SPHKAP  \\\n",
       "0  6.976595  4.742798  4.742798  ...  4.643010  5.751396  5.366407  6.042517   \n",
       "1  7.746695  3.984119  4.907139  ...  4.366282  6.164265  4.907139  6.837265   \n",
       "2  7.671801  4.816944  4.816944  ...  5.146627  6.466886  6.638308  6.160291   \n",
       "3  8.191661  3.984119  6.560582  ...  3.984119  6.115617  4.919178  6.189056   \n",
       "4  8.573623  4.968903  6.314672  ...  3.984119  6.494848  4.559957  6.452012   \n",
       "\n",
       "       CNMD    SERHL2      HPGD   GLYATL1     FGFR4  label  \n",
       "0  4.366722  4.643010  3.984119  4.979502  4.366722      0  \n",
       "1  4.366282  4.741939  4.523022  4.366282  3.984119      0  \n",
       "2  3.984119  7.111343  3.984119  4.816944  5.588960      0  \n",
       "3  3.984119  4.650987  3.984119  3.984119  3.984119      0  \n",
       "4  3.984119  5.453445  4.793247  4.793247  4.559957      0  \n",
       "\n",
       "[5 rows x 57 columns]"
      ]
     },
     "execution_count": 27,
     "metadata": {},
     "output_type": "execute_result"
    }
   ],
   "source": [
    "df_data.head()"
   ]
  },
  {
   "cell_type": "code",
   "execution_count": 28,
   "metadata": {},
   "outputs": [],
   "source": [
    "df_data.to_csv(\"../data/selected_train.csv\", index=False)"
   ]
  }
 ],
 "metadata": {
  "kernelspec": {
   "display_name": "Python 3",
   "language": "python",
   "name": "python3"
  },
  "language_info": {
   "codemirror_mode": {
    "name": "ipython",
    "version": 3
   },
   "file_extension": ".py",
   "mimetype": "text/x-python",
   "name": "python",
   "nbconvert_exporter": "python",
   "pygments_lexer": "ipython3",
   "version": "3.7.4"
  }
 },
 "nbformat": 4,
 "nbformat_minor": 4
}
