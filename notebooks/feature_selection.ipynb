{
 "cells": [
  {
   "cell_type": "code",
   "execution_count": 1,
   "metadata": {},
   "outputs": [],
   "source": [
    "import sys\n",
    "sys.path.append(\"../src\")"
   ]
  },
  {
   "cell_type": "code",
   "execution_count": 2,
   "metadata": {},
   "outputs": [],
   "source": [
    "import pandas as pd\n",
    "from sklearn.linear_model import LogisticRegression\n",
    "from sklearn.model_selection import train_test_split\n",
    "from sklearn.model_selection import KFold\n",
    "from sklearn import metrics\n",
    "import matplotlib.pyplot as plt\n",
    "import seaborn as sns\n",
    "import numpy as np\n",
    "%matplotlib notebook\n",
    "import warnings\n",
    "warnings.filterwarnings('ignore')"
   ]
  },
  {
   "cell_type": "markdown",
   "metadata": {},
   "source": [
    "# Load dataset and do some preprocessing"
   ]
  },
  {
   "cell_type": "code",
   "execution_count": 3,
   "metadata": {},
   "outputs": [],
   "source": [
    "train_path = \"../data/train.csv\"\n",
    "df_data = pd.read_csv(train_path, sep=\",\")"
   ]
  },
  {
   "cell_type": "markdown",
   "metadata": {},
   "source": [
    "#### Setting X"
   ]
  },
  {
   "cell_type": "code",
   "execution_count": 4,
   "metadata": {},
   "outputs": [
    {
     "name": "stdout",
     "output_type": "stream",
     "text": [
      "(29, 15104)\n"
     ]
    }
   ],
   "source": [
    "df_features = df_data[df_data.columns.difference(['full_label', 'label'])]\n",
    "X = df_features.values\n",
    "print(X.shape)"
   ]
  },
  {
   "cell_type": "markdown",
   "metadata": {},
   "source": [
    "#### Setting y"
   ]
  },
  {
   "cell_type": "code",
   "execution_count": 5,
   "metadata": {},
   "outputs": [
    {
     "name": "stdout",
     "output_type": "stream",
     "text": [
      "(29,)\n"
     ]
    }
   ],
   "source": [
    "df_labels = df_data[\"label\"]\n",
    "y = df_labels.values\n",
    "print(y.shape)"
   ]
  },
  {
   "cell_type": "markdown",
   "metadata": {},
   "source": [
    "# Feature selection with LASSO"
   ]
  },
  {
   "cell_type": "markdown",
   "metadata": {},
   "source": [
    "## Impact of the number of trainning iteration on sparcity"
   ]
  },
  {
   "cell_type": "code",
   "execution_count": 6,
   "metadata": {},
   "outputs": [
    {
     "name": "stdout",
     "output_type": "stream",
     "text": [
      "Score for 1e2 : 0.06666666666666667\n",
      "Sparcity for 1e2 : 70.85275423728812\n",
      "Score for 1e3 : 0.2733333333333333\n",
      "Sparcity for 1e3 : 91.36475988700565\n",
      "Score for 1e4 : 0.44000000000000006\n",
      "Sparcity for 1e4 : 97.92593573446327\n",
      "Score for 1e5 : 0.44000000000000006\n",
      "Sparcity for 1e5 : 97.92593573446327\n"
     ]
    }
   ],
   "source": [
    "n_splits = 5\n",
    "scores = []\n",
    "sparcities = []\n",
    "\n",
    "\n",
    "for k in range (2,6):\n",
    "\n",
    "    sparcity = 0\n",
    "    score = 0\n",
    "\n",
    "    #K-Fold vor validation\n",
    "    kf = KFold(n_splits=n_splits)\n",
    "    for train_index, test_index in kf.split(X):\n",
    "        X_train, X_test = X[train_index], X[test_index]\n",
    "        y_train, y_test = y[train_index], y[test_index]\n",
    "\n",
    "        # Trainning\n",
    "        clf_l1_LR = LogisticRegression(penalty='l1', solver='saga', max_iter=10**k, multi_class='multinomial')\n",
    "        clf_l1_LR.fit(X_train, y_train)\n",
    "\n",
    "        # Inference\n",
    "        predictions = clf_l1_LR.predict(X_test)\n",
    "        score += clf_l1_LR.score(X_test, y_test)\n",
    "\n",
    "        #Sparcity measurement\n",
    "        coef_l1_LR = clf_l1_LR.coef_.ravel()\n",
    "        sparcity += np.mean(coef_l1_LR == 0) * 100\n",
    "\n",
    "    print(\"Score for 1e{} :\".format(k), score/n_splits)\n",
    "    print(\"Sparcity for 1e{} :\".format(k), sparcity/n_splits)\n",
    "\n",
    "    scores.append(score/n_splits)\n",
    "    sparcities.append(sparcity/n_splits)"
   ]
  },
  {
   "cell_type": "code",
   "execution_count": 13,
   "metadata": {},
   "outputs": [
    {
     "data": {
      "image/png": "[encoded data removed]",
      "text/plain": [
       "<Figure size 720x360 with 1 Axes>"
      ]
     },
     "metadata": {
      "needs_background": "light"
     },
     "output_type": "display_data"
    }
   ],
   "source": [
    "num_iteration = np.arange(2,6,1)\n",
    "plt.figure(figsize=(10,5))\n",
    "plt.plot(num_iteration,sparcities)\n",
    "plt.xlabel(\"Number of iteration ($10^x$)\")\n",
    "plt.ylabel(\"Percentage of null weights\")\n",
    "plt.xticks(num_iteration)\n",
    "plt.show()"
   ]
  },
  {
   "cell_type": "markdown",
   "metadata": {},
   "source": [
    "# Find most relevant values"
   ]
  },
  {
   "cell_type": "code",
   "execution_count": 23,
   "metadata": {},
   "outputs": [
    {
     "data": {
      "text/plain": [
       "LogisticRegression(C=1.0, class_weight=None, dual=False, fit_intercept=True,\n",
       "                   intercept_scaling=1, l1_ratio=None, max_iter=10000,\n",
       "                   multi_class='multinomial', n_jobs=None, penalty='l1',\n",
       "                   random_state=None, solver='saga', tol=0.0001, verbose=0,\n",
       "                   warm_start=False)"
      ]
     },
     "execution_count": 23,
     "metadata": {},
     "output_type": "execute_result"
    }
   ],
   "source": [
    "clf_l1_LR = LogisticRegression(penalty='l1', solver='saga', max_iter=10000, multi_class='multinomial')\n",
    "clf_l1_LR.fit(X_train, y_train)"
   ]
  },
  {
   "cell_type": "markdown",
   "metadata": {},
   "source": [
    "## Extract non null weights and corresponding labels"
   ]
  },
  {
   "cell_type": "code",
   "execution_count": 24,
   "metadata": {},
   "outputs": [
    {
     "name": "stdout",
     "output_type": "stream",
     "text": [
      "Number of relevant features for category 0 : 333\n",
      "Number of relevant features for category 1 : 295\n",
      "Number of relevant features for category 2 : 448\n"
     ]
    }
   ],
   "source": [
    "label_features_name = {}\n",
    "label_features_weight = {}\n",
    "for i,cat_features in enumerate(clf_l1_LR.coef_):\n",
    "    relevant_features = np.where(cat_features != 0)\n",
    "    label_features_name[i] = df_features.columns[relevant_features].to_list()\n",
    "    label_features_weight[i] = cat_features[relevant_features]\n",
    "    print(\"Number of relevant features for category {} :\".format(i),len(relevant_features[0]))"
   ]
  },
  {
   "cell_type": "markdown",
   "metadata": {},
   "source": [
    "## Sort features by weigth importance"
   ]
  },
  {
   "cell_type": "code",
   "execution_count": 25,
   "metadata": {},
   "outputs": [],
   "source": [
    "import collections\n",
    "label_dictionary = {}\n",
    "top_n_values = {}\n",
    "top_n = 20\n",
    "\n",
    "for i in range(3):\n",
    "    d = dict(zip(label_features_name[i],label_features_weight[i]))\n",
    "    label_dictionary[i] = collections.OrderedDict({k: v for k, v in sorted(d.items(), key=lambda item: item[1], reverse=True)})\n",
    "    top_n_values[i] = list(label_dictionary[i].items())[:top_n]\n",
    "    "
   ]
  },
  {
   "cell_type": "markdown",
   "metadata": {},
   "source": [
    "## Plot most important features for each labels"
   ]
  },
  {
   "cell_type": "code",
   "execution_count": 26,
   "metadata": {},
   "outputs": [
    {
     "data": {
      "image/png": "[encoded data removed]",
      "text/plain": [
       "<Figure size 1440x360 with 1 Axes>"
      ]
     },
     "metadata": {
      "needs_background": "light"
     },
     "output_type": "display_data"
    },
    {
     "data": {
      "image/png": "[encoded data removed]",
      "text/plain": [
       "<Figure size 1440x360 with 1 Axes>"
      ]
     },
     "metadata": {
      "needs_background": "light"
     },
     "output_type": "display_data"
    },
    {
     "data": {
      "image/png": "[encoded data removed]",
      "text/plain": [
       "<Figure size 1440x360 with 1 Axes>"
      ]
     },
     "metadata": {
      "needs_background": "light"
     },
     "output_type": "display_data"
    }
   ],
   "source": [
    "for k in range(3):\n",
    "    labels, value = zip(*top_n_values[k])\n",
    "    plt.figure(figsize=(20,5))\n",
    "    plt.bar(labels, value)"
   ]
  },
  {
   "cell_type": "markdown",
   "metadata": {},
   "source": [
    "## Check how much are in the provided important features"
   ]
  },
  {
   "cell_type": "code",
   "execution_count": 41,
   "metadata": {},
   "outputs": [],
   "source": [
    "label_dictionary = {}\n",
    "top_n_values = {}\n",
    "top_n = 50\n",
    "\n",
    "for i in range(3):\n",
    "    d = dict(zip(label_features_name[i],label_features_weight[i]))\n",
    "    label_dictionary[i] = collections.OrderedDict({k: v for k, v in sorted(d.items(), key=lambda item: item[1], reverse=True)})\n",
    "    top_n_values[i] = list(label_dictionary[i].items())[:top_n]"
   ]
  },
  {
   "cell_type": "code",
   "execution_count": 81,
   "metadata": {},
   "outputs": [],
   "source": [
    "relevant_features = pd.read_csv(\"../data/important_genes.csv\", sep=\",\")\n",
    "relevant_features_array = relevant_features.values.flatten()"
   ]
  },
  {
   "cell_type": "code",
   "execution_count": 82,
   "metadata": {},
   "outputs": [
    {
     "name": "stdout",
     "output_type": "stream",
     "text": [
      "Ratio 0.7321428571428571\n",
      "Shared features \n",
      " ['KLK3', 'SCGB2A1', 'KLK2', 'LRP2', 'CELSR1', 'SLC26A3', 'CXCL13', 'SCGB1D2', 'CUX2', 'GRIK3', 'SCGB2A2', 'UGT2B28', 'CAPN8', 'PGR', 'GPR88', 'TENM1', 'GPC3', 'DCHS2', 'GP2', 'ELOVL2', 'SOX11', 'ALOX15B', 'SLCO1A2', 'UGT2B11', 'CYP4Z1', 'RNF150', 'CYP4F8', 'CITED1', 'SYNPO2', 'ATP1A2', 'PDZK1', 'RANBP3L', 'FGFR2', 'ROBO2', 'KIAA1549L', 'RAB3B', 'ADCY2', 'CNMD', 'SERHL2', 'HPGD', 'FGFR4']\n"
     ]
    }
   ],
   "source": [
    "label_1 = [top_n_values[0][k][0] for k in range(len(top_n_values[0]))]\n",
    "label_2 = [top_n_values[1][k][0] for k in range(len(top_n_values[1]))]\n",
    "label_3 = [top_n_values[2][k][0] for k in range(len(top_n_values[2]))]\n",
    "\n",
    "shared_features = []\n",
    "for gene in relevant_features_array:\n",
    "    if gene in label_1+label_2+label_3:\n",
    "        if gene not in shared_features:\n",
    "            shared_features.append(gene)\n",
    "            \n",
    "print(\"Ratio\", len(shared_features)/len(relevant_features_array))\n",
    "print(\"Shared features \\n\", shared_features)"
   ]
  },
  {
   "cell_type": "markdown",
   "metadata": {},
   "source": [
    "# Feature selection with PCA"
   ]
  },
  {
   "cell_type": "code",
   "execution_count": 69,
   "metadata": {},
   "outputs": [],
   "source": [
    "from sklearn.decomposition import PCA\n",
    "pca = PCA(n_components=2)\n",
    "principalComponents = pca.fit_transform(X)\n",
    "principalDf = pd.DataFrame(data = principalComponents\n",
    "             , columns = ['PC 1','PC 2'])"
   ]
  },
  {
   "cell_type": "code",
   "execution_count": 70,
   "metadata": {},
   "outputs": [],
   "source": [
    "features_of_component_1 = abs( pca.components_ )[0]\n",
    "indices_component_1 = features_of_component_1.argsort()[-50:][::-1]"
   ]
  },
  {
   "cell_type": "code",
   "execution_count": 71,
   "metadata": {},
   "outputs": [],
   "source": [
    "features_labels_of_component_1 = df_features.columns[indices_component_1].to_list()"
   ]
  },
  {
   "cell_type": "code",
   "execution_count": 78,
   "metadata": {},
   "outputs": [
    {
     "name": "stdout",
     "output_type": "stream",
     "text": [
      "['RN7SL2', 'RPS18', 'HSPA1A', 'SCARNA21', 'H19', 'HSPA1B', 'RPS9', 'HLA-E', 'SCARNA7', 'EEF1D', 'SNORD3A', 'CLIC1', 'TUBB', 'SCARNA5', 'RPS17', 'TC2N', 'FOSB', 'DDR1', 'JUNB', 'SNORD17', 'BDP1', 'RPL41', 'SLC25A6', 'BRD2', 'PRPF8', 'KRT16', 'RGL2', 'MTCO3P12', 'SCARNA13', 'LENG8', 'CLDN4', 'NEU1', 'MTRNR2L1', 'DDX24', 'PPP1R10', 'HIST1H1E', 'SCGB3A1', 'KRT17', 'HIST1H4E', 'PPP1R15A', 'IER3', 'LIF', 'SLC25A25', 'ITPKC', 'RNH1', 'MLLT6', 'HIST2H2AC', 'RN7SL3', 'PUF60', 'DLG5']\n"
     ]
    }
   ],
   "source": [
    "print(features_labels_of_component_1)"
   ]
  },
  {
   "cell_type": "code",
   "execution_count": 84,
   "metadata": {},
   "outputs": [],
   "source": [
    "features_of_component_2 = abs( pca.components_ )[1]\n",
    "indices_component_2 = features_of_component_2.argsort()[-50:][::-1]"
   ]
  },
  {
   "cell_type": "code",
   "execution_count": 85,
   "metadata": {},
   "outputs": [],
   "source": [
    "features_labels_of_component_2 = df_features.columns[indices_component_2].to_list()"
   ]
  },
  {
   "cell_type": "code",
   "execution_count": 86,
   "metadata": {},
   "outputs": [
    {
     "name": "stdout",
     "output_type": "stream",
     "text": [
      "['LIF', 'SGMS2', 'CYP24A1', 'LAMC2', 'LUCAT1', 'BIRC3', 'CPB1', 'IL6R', 'MAP3K8', 'SERPINB5', 'CCDC150P1', 'GPAT3', 'ANKRD36C', 'RCAN1', 'KRT16', 'NAMPT', 'CLDN1', 'ITPKC', 'ALDH1A3', 'PLAUR', 'MIR222HG', 'CTSV', 'OCLN', 'KRT6B', 'ENG', 'TC2N', 'MPZL3', 'ADAMTS4', 'INSIG1', 'ATF3', 'SLC6A14', 'AC013394.1', 'SOD2', 'EZR', 'RAP2B', 'DUSP14', 'CXCL8', 'KRT23', 'DAPP1', 'PDK4', 'LRAT', 'LDLR', 'CSRNP1', 'NCOA7', 'GLIPR1', 'GPRC5A', 'GADD45A', 'FAM60A', 'CLDN4', 'CD34']\n"
     ]
    }
   ],
   "source": [
    "print(features_labels_of_component_2)"
   ]
  },
  {
   "cell_type": "code",
   "execution_count": 87,
   "metadata": {},
   "outputs": [
    {
     "name": "stdout",
     "output_type": "stream",
     "text": [
      "Ratio 0.0\n",
      "Shared features \n",
      " []\n"
     ]
    }
   ],
   "source": [
    "shared_features_pca = []\n",
    "for gene in relevant_features_array:\n",
    "    if (gene in features_labels_of_component_2) or (gene in features_labels_of_component_1):\n",
    "        print('ok')\n",
    "        if gene not in shared_features_pca:\n",
    "            shared_features_pca.append(gene)\n",
    "            \n",
    "print(\"Ratio\", len(shared_features_pca)/len(relevant_features_array))\n",
    "print(\"Shared features \\n\", shared_features_pca)"
   ]
  }
 ],
 "metadata": {
  "kernelspec": {
   "display_name": "Python 3",
   "language": "python",
   "name": "python3"
  },
  "language_info": {
   "codemirror_mode": {
    "name": "ipython",
    "version": 3
   },
   "file_extension": ".py",
   "mimetype": "text/x-python",
   "name": "python",
   "nbconvert_exporter": "python",
   "pygments_lexer": "ipython3",
   "version": "3.7.4"
  }
 },
 "nbformat": 4,
 "nbformat_minor": 4
}
