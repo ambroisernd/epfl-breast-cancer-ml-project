{
 "cells": [
  {
   "cell_type": "markdown",
   "metadata": {},
   "source": [
    "# Imports"
   ]
  },
  {
   "cell_type": "code",
   "execution_count": 99,
   "metadata": {},
   "outputs": [],
   "source": [
    "import sys\n",
    "import pandas as pd\n",
    "import matplotlib.pyplot as plt\n",
    "import seaborn as sn\n",
    "\n",
    "from sklearn.mixture import GaussianMixture\n",
    "from sklearn.model_selection import train_test_split\n",
    "from sklearn.metrics import confusion_matrix\n",
    "from sklearn.utils.multiclass import unique_labels\n",
    "\n",
    "sys.path.append(\"../src\")"
   ]
  },
  {
   "cell_type": "markdown",
   "metadata": {},
   "source": [
    "# Loading data"
   ]
  },
  {
   "cell_type": "code",
   "execution_count": 7,
   "metadata": {},
   "outputs": [],
   "source": [
    "train_path = \"../data/selected_train.csv\"\n",
    "df_data = pd.read_csv(train_path, sep=\",\")"
   ]
  },
  {
   "cell_type": "code",
   "execution_count": 8,
   "metadata": {},
   "outputs": [
    {
     "data": {
      "text/html": [
       "<div>\n",
       "<style scoped>\n",
       "    .dataframe tbody tr th:only-of-type {\n",
       "        vertical-align: middle;\n",
       "    }\n",
       "\n",
       "    .dataframe tbody tr th {\n",
       "        vertical-align: top;\n",
       "    }\n",
       "\n",
       "    .dataframe thead th {\n",
       "        text-align: right;\n",
       "    }\n",
       "</style>\n",
       "<table border=\"1\" class=\"dataframe\">\n",
       "  <thead>\n",
       "    <tr style=\"text-align: right;\">\n",
       "      <th></th>\n",
       "      <th>KLK3</th>\n",
       "      <th>ITIH2</th>\n",
       "      <th>SULT1C3</th>\n",
       "      <th>SCGB2A1</th>\n",
       "      <th>KLK2</th>\n",
       "      <th>LRP2</th>\n",
       "      <th>KLK3.1</th>\n",
       "      <th>CELSR1</th>\n",
       "      <th>SLC26A3</th>\n",
       "      <th>GRIK1</th>\n",
       "      <th>...</th>\n",
       "      <th>RAB3B</th>\n",
       "      <th>CLEC7A</th>\n",
       "      <th>ADCY2</th>\n",
       "      <th>SPHKAP</th>\n",
       "      <th>CNMD</th>\n",
       "      <th>SERHL2</th>\n",
       "      <th>HPGD</th>\n",
       "      <th>GLYATL1</th>\n",
       "      <th>FGFR4</th>\n",
       "      <th>label</th>\n",
       "    </tr>\n",
       "  </thead>\n",
       "  <tbody>\n",
       "    <tr>\n",
       "      <td>0</td>\n",
       "      <td>3.984119</td>\n",
       "      <td>4.643010</td>\n",
       "      <td>3.984119</td>\n",
       "      <td>8.004603</td>\n",
       "      <td>3.984119</td>\n",
       "      <td>6.605385</td>\n",
       "      <td>3.984119</td>\n",
       "      <td>6.976595</td>\n",
       "      <td>4.742798</td>\n",
       "      <td>4.742798</td>\n",
       "      <td>...</td>\n",
       "      <td>4.643010</td>\n",
       "      <td>5.751396</td>\n",
       "      <td>5.366407</td>\n",
       "      <td>6.042517</td>\n",
       "      <td>4.366722</td>\n",
       "      <td>4.643010</td>\n",
       "      <td>3.984119</td>\n",
       "      <td>4.979502</td>\n",
       "      <td>4.366722</td>\n",
       "      <td>0</td>\n",
       "    </tr>\n",
       "    <tr>\n",
       "      <td>1</td>\n",
       "      <td>3.984119</td>\n",
       "      <td>3.984119</td>\n",
       "      <td>3.984119</td>\n",
       "      <td>7.454693</td>\n",
       "      <td>3.984119</td>\n",
       "      <td>7.620583</td>\n",
       "      <td>3.984119</td>\n",
       "      <td>7.746695</td>\n",
       "      <td>3.984119</td>\n",
       "      <td>4.907139</td>\n",
       "      <td>...</td>\n",
       "      <td>4.366282</td>\n",
       "      <td>6.164265</td>\n",
       "      <td>4.907139</td>\n",
       "      <td>6.837265</td>\n",
       "      <td>4.366282</td>\n",
       "      <td>4.741939</td>\n",
       "      <td>4.523022</td>\n",
       "      <td>4.366282</td>\n",
       "      <td>3.984119</td>\n",
       "      <td>0</td>\n",
       "    </tr>\n",
       "    <tr>\n",
       "      <td>2</td>\n",
       "      <td>3.984119</td>\n",
       "      <td>5.588960</td>\n",
       "      <td>3.984119</td>\n",
       "      <td>8.237920</td>\n",
       "      <td>4.816944</td>\n",
       "      <td>6.555290</td>\n",
       "      <td>3.984119</td>\n",
       "      <td>7.671801</td>\n",
       "      <td>4.816944</td>\n",
       "      <td>4.816944</td>\n",
       "      <td>...</td>\n",
       "      <td>5.146627</td>\n",
       "      <td>6.466886</td>\n",
       "      <td>6.638308</td>\n",
       "      <td>6.160291</td>\n",
       "      <td>3.984119</td>\n",
       "      <td>7.111343</td>\n",
       "      <td>3.984119</td>\n",
       "      <td>4.816944</td>\n",
       "      <td>5.588960</td>\n",
       "      <td>0</td>\n",
       "    </tr>\n",
       "    <tr>\n",
       "      <td>3</td>\n",
       "      <td>3.984119</td>\n",
       "      <td>5.285217</td>\n",
       "      <td>3.984119</td>\n",
       "      <td>8.749265</td>\n",
       "      <td>3.984119</td>\n",
       "      <td>8.702287</td>\n",
       "      <td>3.984119</td>\n",
       "      <td>8.191661</td>\n",
       "      <td>3.984119</td>\n",
       "      <td>6.560582</td>\n",
       "      <td>...</td>\n",
       "      <td>3.984119</td>\n",
       "      <td>6.115617</td>\n",
       "      <td>4.919178</td>\n",
       "      <td>6.189056</td>\n",
       "      <td>3.984119</td>\n",
       "      <td>4.650987</td>\n",
       "      <td>3.984119</td>\n",
       "      <td>3.984119</td>\n",
       "      <td>3.984119</td>\n",
       "      <td>0</td>\n",
       "    </tr>\n",
       "    <tr>\n",
       "      <td>4</td>\n",
       "      <td>3.984119</td>\n",
       "      <td>5.787031</td>\n",
       "      <td>3.984119</td>\n",
       "      <td>7.636661</td>\n",
       "      <td>3.984119</td>\n",
       "      <td>9.075697</td>\n",
       "      <td>3.984119</td>\n",
       "      <td>8.573623</td>\n",
       "      <td>4.968903</td>\n",
       "      <td>6.314672</td>\n",
       "      <td>...</td>\n",
       "      <td>3.984119</td>\n",
       "      <td>6.494848</td>\n",
       "      <td>4.559957</td>\n",
       "      <td>6.452012</td>\n",
       "      <td>3.984119</td>\n",
       "      <td>5.453445</td>\n",
       "      <td>4.793247</td>\n",
       "      <td>4.793247</td>\n",
       "      <td>4.559957</td>\n",
       "      <td>0</td>\n",
       "    </tr>\n",
       "  </tbody>\n",
       "</table>\n",
       "<p>5 rows × 57 columns</p>\n",
       "</div>"
      ],
      "text/plain": [
       "       KLK3     ITIH2   SULT1C3   SCGB2A1      KLK2      LRP2    KLK3.1  \\\n",
       "0  3.984119  4.643010  3.984119  8.004603  3.984119  6.605385  3.984119   \n",
       "1  3.984119  3.984119  3.984119  7.454693  3.984119  7.620583  3.984119   \n",
       "2  3.984119  5.588960  3.984119  8.237920  4.816944  6.555290  3.984119   \n",
       "3  3.984119  5.285217  3.984119  8.749265  3.984119  8.702287  3.984119   \n",
       "4  3.984119  5.787031  3.984119  7.636661  3.984119  9.075697  3.984119   \n",
       "\n",
       "     CELSR1   SLC26A3     GRIK1  ...     RAB3B    CLEC7A     ADCY2    SPHKAP  \\\n",
       "0  6.976595  4.742798  4.742798  ...  4.643010  5.751396  5.366407  6.042517   \n",
       "1  7.746695  3.984119  4.907139  ...  4.366282  6.164265  4.907139  6.837265   \n",
       "2  7.671801  4.816944  4.816944  ...  5.146627  6.466886  6.638308  6.160291   \n",
       "3  8.191661  3.984119  6.560582  ...  3.984119  6.115617  4.919178  6.189056   \n",
       "4  8.573623  4.968903  6.314672  ...  3.984119  6.494848  4.559957  6.452012   \n",
       "\n",
       "       CNMD    SERHL2      HPGD   GLYATL1     FGFR4  label  \n",
       "0  4.366722  4.643010  3.984119  4.979502  4.366722      0  \n",
       "1  4.366282  4.741939  4.523022  4.366282  3.984119      0  \n",
       "2  3.984119  7.111343  3.984119  4.816944  5.588960      0  \n",
       "3  3.984119  4.650987  3.984119  3.984119  3.984119      0  \n",
       "4  3.984119  5.453445  4.793247  4.793247  4.559957      0  \n",
       "\n",
       "[5 rows x 57 columns]"
      ]
     },
     "execution_count": 8,
     "metadata": {},
     "output_type": "execute_result"
    }
   ],
   "source": [
    "df_data.head()"
   ]
  },
  {
   "cell_type": "code",
   "execution_count": 9,
   "metadata": {},
   "outputs": [],
   "source": [
    "df_features = df_data[df_data.columns.difference(['full_label', 'label'])]\n",
    "df_labels   = df_data[\"label\"]"
   ]
  },
  {
   "cell_type": "code",
   "execution_count": 12,
   "metadata": {},
   "outputs": [],
   "source": [
    "X = df_features.values\n",
    "y = df_labels.values"
   ]
  },
  {
   "cell_type": "markdown",
   "metadata": {},
   "source": [
    "## Train test split"
   ]
  },
  {
   "cell_type": "code",
   "execution_count": 172,
   "metadata": {},
   "outputs": [],
   "source": [
    "X_train, X_test, y_train, y_test = train_test_split(X, y, test_size=0.3)"
   ]
  },
  {
   "cell_type": "code",
   "execution_count": 173,
   "metadata": {},
   "outputs": [
    {
     "name": "stdout",
     "output_type": "stream",
     "text": [
      "X_train shape: (20, 56)\n",
      "X_test  shape: (9, 56)\n"
     ]
    }
   ],
   "source": [
    "print(\"X_train shape:\", X_train.shape)\n",
    "print(\"X_test  shape:\", X_test.shape)"
   ]
  },
  {
   "cell_type": "markdown",
   "metadata": {},
   "source": [
    "# GMM\n",
    "## Define the model"
   ]
  },
  {
   "cell_type": "code",
   "execution_count": 174,
   "metadata": {},
   "outputs": [],
   "source": [
    "gmm = GaussianMixture(n_components=3, covariance_type='full')"
   ]
  },
  {
   "cell_type": "markdown",
   "metadata": {},
   "source": [
    "## Fit data"
   ]
  },
  {
   "cell_type": "code",
   "execution_count": 175,
   "metadata": {},
   "outputs": [
    {
     "data": {
      "text/plain": [
       "GaussianMixture(covariance_type='full', init_params='kmeans', max_iter=100,\n",
       "                means_init=None, n_components=3, n_init=1, precisions_init=None,\n",
       "                random_state=None, reg_covar=1e-06, tol=0.001, verbose=0,\n",
       "                verbose_interval=10, warm_start=False, weights_init=None)"
      ]
     },
     "execution_count": 175,
     "metadata": {},
     "output_type": "execute_result"
    }
   ],
   "source": [
    "gmm.fit(X_train, y_train)"
   ]
  },
  {
   "cell_type": "markdown",
   "metadata": {},
   "source": [
    "## Test model"
   ]
  },
  {
   "cell_type": "code",
   "execution_count": 176,
   "metadata": {},
   "outputs": [
    {
     "name": "stdout",
     "output_type": "stream",
     "text": [
      "y test: [0 0 1 2 1 2 0 2 0]\n",
      "y_pred: [2 2 1 2 1 2 2 2 2]\n"
     ]
    }
   ],
   "source": [
    "y_pred  = gmm.predict(X_test)\n",
    "y_proba = gmm.predict_proba(X_test)\n",
    "\n",
    "print(\"y test:\", y_test)\n",
    "print(\"y_pred:\", y_pred)"
   ]
  },
  {
   "cell_type": "markdown",
   "metadata": {},
   "source": [
    "## Confusion matrix"
   ]
  },
  {
   "cell_type": "code",
   "execution_count": 177,
   "metadata": {},
   "outputs": [
    {
     "data": {
      "text/plain": [
       "array([[0, 0, 4],\n",
       "       [0, 2, 0],\n",
       "       [0, 0, 3]])"
      ]
     },
     "execution_count": 177,
     "metadata": {},
     "output_type": "execute_result"
    }
   ],
   "source": [
    "cm = confusion_matrix(y_test,y_pred)\n",
    "cm"
   ]
  },
  {
   "cell_type": "code",
   "execution_count": null,
   "metadata": {},
   "outputs": [],
   "source": []
  }
 ],
 "metadata": {
  "kernelspec": {
   "display_name": "Python [conda env:ada] *",
   "language": "python",
   "name": "conda-env-ada-py"
  },
  "language_info": {
   "codemirror_mode": {
    "name": "ipython",
    "version": 3
   },
   "file_extension": ".py",
   "mimetype": "text/x-python",
   "name": "python",
   "nbconvert_exporter": "python",
   "pygments_lexer": "ipython3",
   "version": "3.7.4"
  }
 },
 "nbformat": 4,
 "nbformat_minor": 4
}
