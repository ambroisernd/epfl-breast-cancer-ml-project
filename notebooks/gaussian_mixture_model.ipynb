{
 "cells": [
  {
   "cell_type": "markdown",
   "metadata": {},
   "source": [
    "# Imports"
   ]
  },
  {
   "cell_type": "code",
   "execution_count": 1,
   "metadata": {},
   "outputs": [],
   "source": [
    "import sys\n",
    "import pandas as pd\n",
    "import matplotlib.pyplot as plt\n",
    "import seaborn as sn\n",
    "import numpy as np\n",
    "\n",
    "from sklearn.mixture import GaussianMixture\n",
    "from sklearn.model_selection import train_test_split\n",
    "from sklearn.metrics import confusion_matrix\n",
    "from sklearn.utils.multiclass import unique_labels\n",
    "from sklearn.preprocessing import StandardScaler\n",
    "\n",
    "sys.path.append(\"../src\")"
   ]
  },
  {
   "cell_type": "markdown",
   "metadata": {},
   "source": [
    "# Constants"
   ]
  },
  {
   "cell_type": "code",
   "execution_count": 2,
   "metadata": {},
   "outputs": [],
   "source": [
    "train_path = \"../data/selected_train.csv\"\n",
    "train_not_norm_path = \"../data/train_not_normalized.csv\""
   ]
  },
  {
   "cell_type": "markdown",
   "metadata": {},
   "source": [
    "# Loading data"
   ]
  },
  {
   "cell_type": "code",
   "execution_count": 3,
   "metadata": {},
   "outputs": [],
   "source": [
    "take_normalized_data = False"
   ]
  },
  {
   "cell_type": "code",
   "execution_count": 4,
   "metadata": {},
   "outputs": [],
   "source": [
    "def preprocessing_data(data):\n",
    "    scaler = StandardScaler()\n",
    "    scaler.fit(data)\n",
    "    return scaler.transform(data)"
   ]
  },
  {
   "cell_type": "code",
   "execution_count": 5,
   "metadata": {},
   "outputs": [],
   "source": [
    "if take_normalized_data:\n",
    "    # Already preprocessed data\n",
    "    df_data = pd.read_csv(train_path, sep=\",\")\n",
    "    X = df_data[df_data.columns.difference(['label'])].values\n",
    "    \n",
    "else:\n",
    "    # Load data not preprocessed and preprocess it\n",
    "    df_data = pd.read_csv(train_not_norm_path, sep=\",\")\n",
    "    X = df_data[df_data.columns.difference(['label'])].values\n",
    "    X = preprocessing_data(X)\n",
    "\n",
    "y = df_data[\"label\"].values"
   ]
  },
  {
   "cell_type": "markdown",
   "metadata": {},
   "source": [
    "## Train test split"
   ]
  },
  {
   "cell_type": "code",
   "execution_count": 6,
   "metadata": {},
   "outputs": [],
   "source": [
    "X_train, X_test, y_train, y_test = train_test_split(X, y, test_size=0.3)"
   ]
  },
  {
   "cell_type": "code",
   "execution_count": 7,
   "metadata": {},
   "outputs": [
    {
     "name": "stdout",
     "output_type": "stream",
     "text": [
      "X_train shape: (20, 56)\n",
      "X_test  shape: (9, 56)\n"
     ]
    }
   ],
   "source": [
    "print(\"X_train shape:\", X_train.shape)\n",
    "print(\"X_test  shape:\", X_test.shape)"
   ]
  },
  {
   "cell_type": "markdown",
   "metadata": {},
   "source": [
    "# GMM\n",
    "## Define the model"
   ]
  },
  {
   "cell_type": "code",
   "execution_count": 8,
   "metadata": {},
   "outputs": [],
   "source": [
    "gmm = GaussianMixture(n_components=3, covariance_type='full', max_iter=10_000)"
   ]
  },
  {
   "cell_type": "markdown",
   "metadata": {},
   "source": [
    "## Fit data"
   ]
  },
  {
   "cell_type": "code",
   "execution_count": 9,
   "metadata": {},
   "outputs": [
    {
     "data": {
      "text/plain": [
       "GaussianMixture(covariance_type='full', init_params='kmeans', max_iter=10000,\n",
       "                means_init=None, n_components=3, n_init=1, precisions_init=None,\n",
       "                random_state=None, reg_covar=1e-06, tol=0.001, verbose=0,\n",
       "                verbose_interval=10, warm_start=False, weights_init=None)"
      ]
     },
     "execution_count": 9,
     "metadata": {},
     "output_type": "execute_result"
    }
   ],
   "source": [
    "gmm.fit(X_train, y_train)"
   ]
  },
  {
   "cell_type": "markdown",
   "metadata": {},
   "source": [
    "## Test model"
   ]
  },
  {
   "cell_type": "code",
   "execution_count": 10,
   "metadata": {},
   "outputs": [
    {
     "name": "stdout",
     "output_type": "stream",
     "text": [
      "y test: [0 0 1 2 1 2 2 1 1]\n",
      "y_pred: [1 1 1 1 1 1 1 1 1]\n"
     ]
    }
   ],
   "source": [
    "y_pred  = gmm.predict(X_test)\n",
    "y_proba = gmm.predict_proba(X_test)\n",
    "\n",
    "print(\"y test:\", y_test)\n",
    "print(\"y_pred:\", y_pred)"
   ]
  },
  {
   "cell_type": "markdown",
   "metadata": {},
   "source": [
    "## Confusion matrix"
   ]
  },
  {
   "cell_type": "code",
   "execution_count": 11,
   "metadata": {},
   "outputs": [
    {
     "data": {
      "text/plain": [
       "array([[0, 2, 0],\n",
       "       [0, 4, 0],\n",
       "       [0, 3, 0]])"
      ]
     },
     "execution_count": 11,
     "metadata": {},
     "output_type": "execute_result"
    }
   ],
   "source": [
    "cm = confusion_matrix(y_test,y_pred)\n",
    "cm"
   ]
  },
  {
   "cell_type": "markdown",
   "metadata": {},
   "source": [
    "# GMM after PCA"
   ]
  },
  {
   "cell_type": "markdown",
   "metadata": {},
   "source": [
    "## PCA over dataset "
   ]
  },
  {
   "cell_type": "code",
   "execution_count": 12,
   "metadata": {},
   "outputs": [],
   "source": [
    "from sklearn.decomposition import PCA"
   ]
  },
  {
   "cell_type": "code",
   "execution_count": 13,
   "metadata": {},
   "outputs": [],
   "source": [
    "pca = PCA(n_components=2)\n",
    "principalComponents = pca.fit_transform(X)\n",
    "principalDf = pd.DataFrame(data = principalComponents, columns = ['PC 1','PC 2'])"
   ]
  },
  {
   "cell_type": "code",
   "execution_count": 14,
   "metadata": {},
   "outputs": [],
   "source": [
    "finalDf = pd.concat([principalDf, df_data[['label']]], axis = 1)"
   ]
  },
  {
   "cell_type": "code",
   "execution_count": 15,
   "metadata": {},
   "outputs": [
    {
     "data": {
      "image/png": "[encoded data removed]",
      "text/plain": [
       "<Figure size 576x576 with 1 Axes>"
      ]
     },
     "metadata": {
      "needs_background": "light"
     },
     "output_type": "display_data"
    }
   ],
   "source": [
    "fig = plt.figure(figsize = (8,8))\n",
    "ax = fig.add_subplot(1,1,1) \n",
    "ax.set_xlabel('PC 1', fontsize = 15)\n",
    "ax.set_ylabel('PC 2', fontsize = 15)\n",
    "ax.set_title('2 component PCA', fontsize = 20)\n",
    "targets = [0, 1, 2]\n",
    "colors = ['r', 'g', 'b']\n",
    "for target, color in zip(targets,colors):\n",
    "    indicesToKeep = finalDf['label'] == target\n",
    "    ax.scatter(finalDf.loc[indicesToKeep, 'PC 1']\n",
    "               , finalDf.loc[indicesToKeep, 'PC 2']\n",
    "               , c = color\n",
    "               , s = 50)\n",
    "ax.legend(targets)\n",
    "ax.grid()"
   ]
  },
  {
   "cell_type": "markdown",
   "metadata": {},
   "source": [
    "## GMM over 2D PCA"
   ]
  },
  {
   "cell_type": "code",
   "execution_count": 16,
   "metadata": {},
   "outputs": [],
   "source": [
    "X_pca = finalDf[finalDf.columns.difference(['full_label', 'label'])].values\n",
    "y_pca = finalDf[\"label\"].values"
   ]
  },
  {
   "cell_type": "code",
   "execution_count": 17,
   "metadata": {},
   "outputs": [],
   "source": [
    "X_train_pca, X_test_pca, y_train_pca, y_test_pca = train_test_split(X_pca, y_pca, test_size=0.3)"
   ]
  },
  {
   "cell_type": "markdown",
   "metadata": {},
   "source": [
    "## Fit data from PCA"
   ]
  },
  {
   "cell_type": "code",
   "execution_count": 18,
   "metadata": {},
   "outputs": [],
   "source": [
    "gmm = GaussianMixture(n_components=3, covariance_type='full', max_iter=10_000, tol=1e-8, init_params=\"random\")"
   ]
  },
  {
   "cell_type": "code",
   "execution_count": 19,
   "metadata": {},
   "outputs": [],
   "source": [
    "gmm = gmm.fit(X_pca, y_pca)"
   ]
  },
  {
   "cell_type": "markdown",
   "metadata": {},
   "source": [
    "## Test model"
   ]
  },
  {
   "cell_type": "code",
   "execution_count": 20,
   "metadata": {},
   "outputs": [
    {
     "name": "stdout",
     "output_type": "stream",
     "text": [
      "y_proba: [[4.09941320e-002 9.58741604e-001 2.64263700e-004]\n",
      " [1.94138923e-158 9.02073153e-037 1.00000000e+000]\n",
      " [9.99694434e-001 3.64984406e-026 3.05565849e-004]\n",
      " [2.10912109e-013 9.99999991e-001 8.69007829e-009]\n",
      " [1.39015768e-187 2.10495385e-080 1.00000000e+000]\n",
      " [9.95646468e-001 4.88122617e-022 4.35353230e-003]\n",
      " [9.98086078e-001 6.39623900e-005 1.84996008e-003]\n",
      " [3.14285415e-006 9.37802397e-001 6.21944600e-002]\n",
      " [9.99804973e-001 2.26303410e-031 1.95027467e-004]\n",
      " [9.96437561e-001 1.73799508e-003 1.82444393e-003]\n",
      " [8.36196623e-029 2.56931509e-004 9.99743068e-001]\n",
      " [9.99135640e-001 6.14659451e-021 8.64359568e-004]\n",
      " [9.21865991e-002 9.07414604e-001 3.98797305e-004]\n",
      " [5.72386536e-052 3.74557907e-007 9.99999625e-001]\n",
      " [4.52006613e-064 1.22913777e-016 1.00000000e+000]\n",
      " [3.64058405e-015 7.39374779e-001 2.60625221e-001]\n",
      " [1.99026497e-001 8.00809416e-001 1.64086893e-004]\n",
      " [9.97272095e-001 1.26854203e-005 2.71521909e-003]\n",
      " [9.97781041e-001 1.27248807e-004 2.09171032e-003]\n",
      " [9.99658853e-001 5.48854844e-028 3.41147274e-004]\n",
      " [5.02016591e-080 1.77498938e-040 1.00000000e+000]\n",
      " [1.17052460e-001 8.82863342e-001 8.41982322e-005]\n",
      " [7.39206130e-002 9.25776155e-001 3.03232468e-004]\n",
      " [3.73706217e-002 9.61928826e-001 7.00551963e-004]\n",
      " [1.18877890e-004 9.99880662e-001 4.60603199e-007]\n",
      " [6.88467877e-131 3.65353592e-074 1.00000000e+000]\n",
      " [9.92681580e-002 9.00418846e-001 3.12995705e-004]\n",
      " [1.17765290e-006 9.99998740e-001 8.23030862e-008]\n",
      " [4.70714900e-178 5.76371701e-087 1.00000000e+000]]\n",
      "y [1 2 1 1 2 1 0 1 0]\n",
      "y [0 1 2 0 1 2 0 1 2 0 1 2 0 1 1 1 0 2 2 2 1 0 2 2 0 1 2 0 1]\n"
     ]
    }
   ],
   "source": [
    "y_pred_pca  = gmm.predict(X_test_pca)\n",
    "y_proba_pca = gmm.predict_proba(X_pca)\n",
    "\n",
    "#print(\"y test:\", y_test_pca)\n",
    "print(\"y_proba:\", y_proba_pca)\n",
    "print(\"y\", y_pred_pca)\n",
    "print(\"y\", y_pca)"
   ]
  },
  {
   "cell_type": "markdown",
   "metadata": {},
   "source": [
    "## Confusion matrix"
   ]
  },
  {
   "cell_type": "code",
   "execution_count": 43,
   "metadata": {},
   "outputs": [
    {
     "data": {
      "text/plain": [
       "array([[0, 4, 0],\n",
       "       [0, 0, 1],\n",
       "       [0, 4, 0]])"
      ]
     },
     "execution_count": 43,
     "metadata": {},
     "output_type": "execute_result"
    }
   ],
   "source": [
    "cm = confusion_matrix(y_test_pca, y_pred_pca)"
   ]
  },
  {
   "cell_type": "markdown",
   "metadata": {},
   "source": [
    "## Contour "
   ]
  },
  {
   "cell_type": "raw",
   "metadata": {},
   "source": []
  },
  {
   "cell_type": "code",
   "execution_count": 135,
   "metadata": {},
   "outputs": [
    {
     "data": {
      "image/png": "[encoded data removed]",
      "text/plain": [
       "<Figure size 576x576 with 2 Axes>"
      ]
     },
     "metadata": {
      "needs_background": "light"
     },
     "output_type": "display_data"
    }
   ],
   "source": [
    "from matplotlib.colors import LogNorm\n",
    "from matplotlib import ticker, cm\n",
    "import matplotlib as mpl\n",
    "\n",
    "targets = [0, 1, 2]\n",
    "colors = ['royalblue', 'deepskyblue', 'cyan']\n",
    "\n",
    "fig = plt.figure(figsize = (8,8))\n",
    "ax = fig.add_subplot(1,1,1) \n",
    "\n",
    "# Contour\n",
    "X, Y = np.meshgrid(np.linspace(-10, 20), np.linspace(-6, 9))\n",
    "XX = np.array([X.ravel(), Y.ravel()]).T\n",
    "Z = gmm.score_samples(XX)\n",
    "\n",
    "\n",
    "Z = Z.reshape((len(X),len(Y)))\n",
    "ax.contourf(X, Y, Z, levels=40,cmap=cm.Blues)\n",
    "\n",
    "for target, color in zip(targets,colors):\n",
    "    indicesToKeep = finalDf['label'] == target\n",
    "    ax.scatter(finalDf.loc[indicesToKeep, 'PC 1']\n",
    "               , finalDf.loc[indicesToKeep, 'PC 2']\n",
    "               , c = color\n",
    "               , label = target\n",
    "               , s = 50)\n",
    "\n",
    "ax.set_xlabel('Component 1', fontsize = 15)\n",
    "ax.set_ylabel('Component 2', fontsize = 15)\n",
    "ax.set_title('Gaussian mixture model on PCA (dim=2)', fontsize = 20)\n",
    "ax.legend()\n",
    "ax.grid()\n",
    "#legend\n",
    "\n",
    "cbar = plt.colorbar(heatmap)\n",
    "cbar.ax.set_yticklabels([])\n",
    "cbar.set_label('Probabilities between 0 and 1', rotation=270)\n",
    "#cbar.ax.get_yaxis().set_ticks([])\n",
    "plt.show()"
   ]
  }
 ],
 "metadata": {
  "kernelspec": {
   "display_name": "Python 3",
   "language": "python",
   "name": "python3"
  },
  "language_info": {
   "codemirror_mode": {
    "name": "ipython",
    "version": 3
   },
   "file_extension": ".py",
   "mimetype": "text/x-python",
   "name": "python",
   "nbconvert_exporter": "python",
   "pygments_lexer": "ipython3",
   "version": "3.7.3"
  }
 },
 "nbformat": 4,
 "nbformat_minor": 4
}
