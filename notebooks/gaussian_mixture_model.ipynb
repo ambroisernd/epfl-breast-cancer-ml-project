{
 "cells": [
  {
   "cell_type": "markdown",
   "metadata": {},
   "source": [
    "# Imports"
   ]
  },
  {
   "cell_type": "code",
   "execution_count": 1,
   "metadata": {},
   "outputs": [],
   "source": [
    "import sys\n",
    "sys.path.append(\"../src\")\n",
    "\n",
    "import pandas as pd\n",
    "import matplotlib.pyplot as plt\n",
    "import seaborn as sn\n",
    "import numpy as np\n",
    "\n",
    "from sklearn.mixture import GaussianMixture\n",
    "from sklearn.model_selection import train_test_split\n",
    "from sklearn.metrics import confusion_matrix\n",
    "from sklearn.utils.multiclass import unique_labels\n",
    "from sklearn.preprocessing import StandardScaler\n",
    "\n",
    "# Our code\n",
    "from generate_prediction import features_expert, load_dataset"
   ]
  },
  {
   "cell_type": "markdown",
   "metadata": {},
   "source": [
    "# Constants"
   ]
  },
  {
   "cell_type": "code",
   "execution_count": 2,
   "metadata": {},
   "outputs": [],
   "source": [
    "train_path = \"../data/normalized_train.csv\""
   ]
  },
  {
   "cell_type": "markdown",
   "metadata": {},
   "source": [
    "# Loading data"
   ]
  },
  {
   "cell_type": "code",
   "execution_count": 3,
   "metadata": {},
   "outputs": [],
   "source": [
    "features = features_expert()\n",
    "X, y = load_dataset(train_path, training=True, features=features)"
   ]
  },
  {
   "cell_type": "markdown",
   "metadata": {},
   "source": [
    "## Train test split"
   ]
  },
  {
   "cell_type": "code",
   "execution_count": 4,
   "metadata": {},
   "outputs": [],
   "source": [
    "X_train, X_test, y_train, y_test = train_test_split(X, y, test_size=0.3)"
   ]
  },
  {
   "cell_type": "code",
   "execution_count": 5,
   "metadata": {},
   "outputs": [
    {
     "name": "stdout",
     "output_type": "stream",
     "text": [
      "X_train shape: (20, 52)\n",
      "X_test  shape: (9, 52)\n"
     ]
    }
   ],
   "source": [
    "print(\"X_train shape:\", X_train.shape)\n",
    "print(\"X_test  shape:\", X_test.shape)"
   ]
  },
  {
   "cell_type": "markdown",
   "metadata": {},
   "source": [
    "# GMM\n",
    "## Define the model"
   ]
  },
  {
   "cell_type": "code",
   "execution_count": 6,
   "metadata": {},
   "outputs": [],
   "source": [
    "gmm = GaussianMixture(n_components=3, covariance_type='full', max_iter=10_000)"
   ]
  },
  {
   "cell_type": "markdown",
   "metadata": {},
   "source": [
    "## Fit data"
   ]
  },
  {
   "cell_type": "code",
   "execution_count": 7,
   "metadata": {},
   "outputs": [
    {
     "data": {
      "text/plain": [
       "GaussianMixture(covariance_type='full', init_params='kmeans', max_iter=10000,\n",
       "                means_init=None, n_components=3, n_init=1, precisions_init=None,\n",
       "                random_state=None, reg_covar=1e-06, tol=0.001, verbose=0,\n",
       "                verbose_interval=10, warm_start=False, weights_init=None)"
      ]
     },
     "execution_count": 7,
     "metadata": {},
     "output_type": "execute_result"
    }
   ],
   "source": [
    "gmm.fit(X_train, y_train)"
   ]
  },
  {
   "cell_type": "markdown",
   "metadata": {},
   "source": [
    "## Test model"
   ]
  },
  {
   "cell_type": "code",
   "execution_count": 8,
   "metadata": {},
   "outputs": [
    {
     "name": "stdout",
     "output_type": "stream",
     "text": [
      "y test: [0 1 0 1 0 1 0 0 0]\n",
      "y_pred: [1 2 1 2 1 2 1 1 1]\n"
     ]
    }
   ],
   "source": [
    "y_pred  = gmm.predict(X_test)\n",
    "y_proba = gmm.predict_proba(X_test)\n",
    "\n",
    "print(\"y test:\", y_test)\n",
    "print(\"y_pred:\", y_pred)"
   ]
  },
  {
   "cell_type": "markdown",
   "metadata": {},
   "source": [
    "## Confusion matrix"
   ]
  },
  {
   "cell_type": "code",
   "execution_count": 9,
   "metadata": {},
   "outputs": [
    {
     "data": {
      "text/plain": [
       "array([[0, 6, 0],\n",
       "       [0, 0, 3],\n",
       "       [0, 0, 0]])"
      ]
     },
     "execution_count": 9,
     "metadata": {},
     "output_type": "execute_result"
    }
   ],
   "source": [
    "cm = confusion_matrix(y_test,y_pred)\n",
    "cm"
   ]
  },
  {
   "cell_type": "markdown",
   "metadata": {},
   "source": [
    "# GMM after PCA"
   ]
  },
  {
   "cell_type": "markdown",
   "metadata": {},
   "source": [
    "## PCA over dataset "
   ]
  },
  {
   "cell_type": "code",
   "execution_count": 10,
   "metadata": {},
   "outputs": [],
   "source": [
    "df_data = pd.read_csv(train_path)"
   ]
  },
  {
   "cell_type": "code",
   "execution_count": 11,
   "metadata": {},
   "outputs": [],
   "source": [
    "from sklearn.decomposition import PCA"
   ]
  },
  {
   "cell_type": "code",
   "execution_count": 12,
   "metadata": {},
   "outputs": [],
   "source": [
    "pca = PCA(n_components=2)\n",
    "principalComponents = pca.fit_transform(X)\n",
    "principalDf = pd.DataFrame(data = principalComponents, columns = ['PC 1','PC 2'])"
   ]
  },
  {
   "cell_type": "code",
   "execution_count": 13,
   "metadata": {},
   "outputs": [],
   "source": [
    "finalDf = pd.concat([principalDf, df_data[['label']]], axis = 1)"
   ]
  },
  {
   "cell_type": "code",
   "execution_count": 14,
   "metadata": {},
   "outputs": [
    {
     "data": {
      "image/png": "[encoded data removed]",
      "text/plain": [
       "<Figure size 576x576 with 1 Axes>"
      ]
     },
     "metadata": {
      "needs_background": "light"
     },
     "output_type": "display_data"
    }
   ],
   "source": [
    "fig = plt.figure(figsize = (8,8))\n",
    "ax = fig.add_subplot(1,1,1) \n",
    "ax.set_xlabel('PC 1', fontsize = 15)\n",
    "ax.set_ylabel('PC 2', fontsize = 15)\n",
    "ax.set_title('2 component PCA', fontsize = 20)\n",
    "targets = [0, 1, 2]\n",
    "colors = ['r', 'g', 'b']\n",
    "for target, color in zip(targets,colors):\n",
    "    indicesToKeep = finalDf['label'] == target\n",
    "    ax.scatter(finalDf.loc[indicesToKeep, 'PC 1']\n",
    "               , finalDf.loc[indicesToKeep, 'PC 2']\n",
    "               , c = color\n",
    "               , s = 50)\n",
    "ax.legend(targets)\n",
    "ax.grid()"
   ]
  },
  {
   "cell_type": "markdown",
   "metadata": {},
   "source": [
    "## GMM over 2D PCA"
   ]
  },
  {
   "cell_type": "code",
   "execution_count": 15,
   "metadata": {},
   "outputs": [],
   "source": [
    "X_pca = finalDf[finalDf.columns.difference(['full_label', 'label'])].values\n",
    "y_pca = finalDf[\"label\"].values"
   ]
  },
  {
   "cell_type": "code",
   "execution_count": 16,
   "metadata": {},
   "outputs": [],
   "source": [
    "X_train_pca, X_test_pca, y_train_pca, y_test_pca = train_test_split(X_pca, y_pca, test_size=0.3)"
   ]
  },
  {
   "cell_type": "markdown",
   "metadata": {},
   "source": [
    "## Fit data from PCA"
   ]
  },
  {
   "cell_type": "code",
   "execution_count": 17,
   "metadata": {},
   "outputs": [],
   "source": [
    "gmm = GaussianMixture(n_components=3, covariance_type='full', max_iter=10_000, tol=1e-8, init_params=\"random\")"
   ]
  },
  {
   "cell_type": "code",
   "execution_count": 18,
   "metadata": {},
   "outputs": [],
   "source": [
    "gmm = gmm.fit(X_pca, y_pca)"
   ]
  },
  {
   "cell_type": "markdown",
   "metadata": {},
   "source": [
    "## Test model"
   ]
  },
  {
   "cell_type": "code",
   "execution_count": 19,
   "metadata": {},
   "outputs": [
    {
     "name": "stdout",
     "output_type": "stream",
     "text": [
      "y_proba: [[4.20057209e-066 4.13162968e-010 1.00000000e+000]\n",
      " [3.82476347e-115 2.38352338e-006 9.99997616e-001]\n",
      " [1.42668042e-182 9.99995837e-001 4.16259053e-006]\n",
      " [0.00000000e+000 9.99998422e-001 1.57768044e-006]\n",
      " [4.94065646e-324 9.99992339e-001 7.66091935e-006]\n",
      " [5.69646437e-129 5.64345904e-003 9.94356541e-001]\n",
      " [0.00000000e+000 9.99999741e-001 2.58826495e-007]\n",
      " [2.36336143e-048 6.66634248e-014 1.00000000e+000]\n",
      " [4.22725689e-062 1.05675973e-010 1.00000000e+000]\n",
      " [9.36785724e-001 6.32142758e-002 7.44756279e-056]\n",
      " [9.91394226e-001 8.60577395e-003 3.24727066e-084]\n",
      " [9.79839814e-001 2.01601855e-002 6.59155238e-042]\n",
      " [1.00000000e+000 1.16390699e-019 3.53645643e-167]\n",
      " [1.00000000e+000 3.52105607e-024 9.95968940e-189]\n",
      " [1.00000000e+000 3.36434205e-016 2.19544996e-153]\n",
      " [9.94572329e-001 5.42767143e-003 1.25816039e-075]\n",
      " [9.99999935e-001 6.51157147e-008 4.02821337e-108]\n",
      " [9.99482841e-001 5.17158828e-004 1.45357561e-025]\n",
      " [2.88785928e-003 9.97112141e-001 2.82274399e-049]\n",
      " [1.62510638e-046 2.20231724e-016 1.00000000e+000]\n",
      " [6.68414100e-054 1.81491064e-012 1.00000000e+000]\n",
      " [3.70149721e-029 2.98991571e-018 1.00000000e+000]\n",
      " [2.73198775e-073 1.00000000e+000 2.36030495e-018]\n",
      " [3.56885880e-041 1.00000000e+000 9.92383412e-015]\n",
      " [1.70700282e-075 9.99957323e-001 4.26767141e-005]\n",
      " [3.26111667e-032 1.79545747e-008 9.99999982e-001]\n",
      " [1.95574643e-053 5.87564051e-011 1.00000000e+000]\n",
      " [2.29405336e-017 2.25166241e-019 1.00000000e+000]\n",
      " [4.63411350e-064 5.68065250e-008 9.99999943e-001]]\n",
      "y [2 2 0 2 2 2 1 2 1]\n",
      "y [0 0 0 0 0 0 0 0 0 1 1 1 1 1 1 1 1 1 1 2 2 2 2 2 2 2 2 2 2]\n"
     ]
    }
   ],
   "source": [
    "y_pred_pca  = gmm.predict(X_test_pca)\n",
    "y_proba_pca = gmm.predict_proba(X_pca)\n",
    "\n",
    "#print(\"y test:\", y_test_pca)\n",
    "print(\"y_proba:\", y_proba_pca)\n",
    "print(\"y\", y_pred_pca)\n",
    "print(\"y\", y_pca)"
   ]
  },
  {
   "cell_type": "markdown",
   "metadata": {},
   "source": [
    "## Confusion matrix"
   ]
  },
  {
   "cell_type": "code",
   "execution_count": 20,
   "metadata": {},
   "outputs": [],
   "source": [
    "cm = confusion_matrix(y_test_pca, y_pred_pca)"
   ]
  },
  {
   "cell_type": "markdown",
   "metadata": {},
   "source": [
    "## Contour "
   ]
  },
  {
   "cell_type": "code",
   "execution_count": 22,
   "metadata": {},
   "outputs": [
    {
     "data": {
      "image/png": "[encoded data removed]",
      "text/plain": [
       "<Figure size 576x576 with 1 Axes>"
      ]
     },
     "metadata": {
      "needs_background": "light"
     },
     "output_type": "display_data"
    }
   ],
   "source": [
    "from matplotlib.colors import LogNorm\n",
    "from matplotlib import ticker, cm\n",
    "import matplotlib as mpl\n",
    "\n",
    "targets = [0, 1, 2]\n",
    "colors = ['royalblue', 'deepskyblue', 'cyan']\n",
    "\n",
    "fig = plt.figure(figsize = (8,8))\n",
    "ax = fig.add_subplot(1,1,1) \n",
    "\n",
    "# Contour\n",
    "X, Y = np.meshgrid(np.linspace(-10, 20), np.linspace(-6, 9))\n",
    "XX = np.array([X.ravel(), Y.ravel()]).T\n",
    "Z = gmm.score_samples(XX)\n",
    "\n",
    "\n",
    "Z = Z.reshape((len(X),len(Y)))\n",
    "ax.contourf(X, Y, Z, levels=40,cmap=cm.Blues)\n",
    "\n",
    "for target, color in zip(targets,colors):\n",
    "    indicesToKeep = finalDf['label'] == target\n",
    "    ax.scatter(finalDf.loc[indicesToKeep, 'PC 1']\n",
    "               , finalDf.loc[indicesToKeep, 'PC 2']\n",
    "               , c = color\n",
    "               , label = target\n",
    "               , s = 50)\n",
    "\n",
    "ax.set_xlabel('Component 1', fontsize = 15)\n",
    "ax.set_ylabel('Component 2', fontsize = 15)\n",
    "ax.set_title('Gaussian mixture model on PCA (dim=2)', fontsize = 20)\n",
    "ax.legend()\n",
    "ax.grid()\n",
    "#legend\n",
    "\n",
    "#cbar = plt.colorbar(ax.pcolor(Z, cmap=cm.Blues))\n",
    "#cbar.ax.set_yticklabels([])\n",
    "#cbar.set_label('Probabilities between 0 and 1', rotation=270)\n",
    "#cbar.ax.get_yaxis().set_ticks([])\n",
    "plt.show()"
   ]
  },
  {
   "cell_type": "code",
   "execution_count": null,
   "metadata": {},
   "outputs": [],
   "source": []
  }
 ],
 "metadata": {
  "kernelspec": {
   "display_name": "Python 3",
   "language": "python",
   "name": "python3"
  },
  "language_info": {
   "codemirror_mode": {
    "name": "ipython",
    "version": 3
   },
   "file_extension": ".py",
   "mimetype": "text/x-python",
   "name": "python",
   "nbconvert_exporter": "python",
   "pygments_lexer": "ipython3",
   "version": "3.7.4"
  }
 },
 "nbformat": 4,
 "nbformat_minor": 4
}
